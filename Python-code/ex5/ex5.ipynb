{
 "cells": [
  {
   "cell_type": "code",
   "execution_count": 95,
   "metadata": {},
   "outputs": [],
   "source": [
    "import numpy as np\n",
    "import matplotlib.pyplot as plt\n",
    "import scipy.optimize as opt\n",
    "import multiprocessing as mp\n",
    "import pandas as pd\n",
    "import scipy.io as sio"
   ]
  },
  {
   "cell_type": "code",
   "execution_count": 96,
   "metadata": {},
   "outputs": [
    {
     "name": "stdout",
     "output_type": "stream",
     "text": [
      "dict_keys(['__header__', '__version__', '__globals__', 'X', 'y', 'Xtest', 'ytest', 'Xval', 'yval'])\n"
     ]
    },
    {
     "data": {
      "image/png": "[encoded data removed]",
      "text/plain": [
       "<matplotlib.figure.Figure at 0x7fb5513f4080>"
      ]
     },
     "metadata": {},
     "output_type": "display_data"
    }
   ],
   "source": [
    "mat_contents = sio.loadmat('ex5data1.mat')\n",
    "print(mat_contents.keys())\n",
    "X = mat_contents['X']\n",
    "y = mat_contents['y']\n",
    "m = X.shape[0]\n",
    "\n",
    "plt.plot(X, y, '*')\n",
    "\n",
    "plt.ylabel('Change in water level (x)')\n",
    "plt.xlabel('Water flowing out of the dam (y)')\n",
    "plt.show()\n",
    "\n",
    "# Xtest = mat_contents['Xtest']\n",
    "\n",
    "\n"
   ]
  },
  {
   "cell_type": "code",
   "execution_count": 118,
   "metadata": {},
   "outputs": [],
   "source": [
    "def linearRegCostFunction(X_lr, y_lr, theta_lr, lambda_lr):\n",
    "#     print (X_lr)\n",
    "    theta_lr = theta_lr.reshape(-1, 1)\n",
    "    \n",
    "    grad = np.zeros(theta_lr.shape)\n",
    "    hx = X_lr.dot(theta_lr).reshape(-1, 1)\n",
    "    \n",
    "    a = np.c_[np.array([0])]\n",
    "    theta1 = np.concatenate((a , theta[1:theta.size, :]))\n",
    "    \n",
    "    reg = lambda_lr / (2 * m) * (np.sum(np.square(theta1)))\n",
    "    print(reg)\n",
    "    \n",
    "    J = 1 / (2 * m) * (np.sum(np.square(hx  - y_lr))) + reg \n",
    "    print(J)\n",
    "    \n",
    "    #grad = 1 / m * ((hx - y)' * X)' + (lambda * theta1) / m;\n",
    "    grad = (1 / m) * ((hx - y_lr).T.dot(X_lr)).T + (lambda_lr/ m) * theta1\n",
    "#     grad = (1/m) * (hx-y_lr)*\n",
    "    #print (grad.shape)\n",
    "    \n",
    "    return J, grad\n",
    "\n",
    "\n",
    "\n",
    "\n"
   ]
  },
  {
   "cell_type": "code",
   "execution_count": 119,
   "metadata": {},
   "outputs": [
    {
     "name": "stdout",
     "output_type": "stream",
     "text": [
      "0.041666666666666664\n",
      "303.9931922202643\n",
      "['Cost at theta = [1 ; 1]:\\n(this value should be about 303.993192)\\n'] 303.9931922202643\n",
      "['Gradient at theta = [1 ; 1]\\n(this value should be about [-15.303016; 598.250744])\\n'] [-15.30301567] [598.25074417]\n"
     ]
    }
   ],
   "source": [
    "theta = np.array([[1], [1]])\n",
    "J, grad = linearRegCostFunction(np.c_[np.ones((m, 1)), X], y, theta, 1)\n",
    "print(['Cost at theta = [1 ; 1]:\\n(this value should be about 303.993192)\\n'], J);\n",
    "\n",
    "print(['Gradient at theta = [1 ; 1]\\n(this value should be about [-15.303016; 598.250744])\\n'],grad[0], grad[1]);"
   ]
  },
  {
   "cell_type": "code",
   "execution_count": 126,
   "metadata": {},
   "outputs": [],
   "source": [
    "a  = np.array([[1, 2], [3, 4]])\n",
    "b  = np.array([[5, 6], [7, 8]])"
   ]
  },
  {
   "cell_type": "code",
   "execution_count": 130,
   "metadata": {},
   "outputs": [
    {
     "name": "stdout",
     "output_type": "stream",
     "text": [
      "[[1 2]\n",
      " [3 4]]\n",
      "[[5 6]\n",
      " [7 8]]\n"
     ]
    },
    {
     "data": {
      "text/plain": [
       "array([[ 5, 12],\n",
       "       [21, 32]])"
      ]
     },
     "execution_count": 130,
     "metadata": {},
     "output_type": "execute_result"
    }
   ],
   "source": [
    "print(a)\n",
    "print(b)\n",
    "#print(a + b)\n",
    "a * b"
   ]
  },
  {
   "cell_type": "code",
   "execution_count": null,
   "metadata": {},
   "outputs": [],
   "source": []
  }
 ],
 "metadata": {
  "kernelspec": {
   "display_name": "Python 3",
   "language": "python",
   "name": "python3"
  },
  "language_info": {
   "codemirror_mode": {
    "name": "ipython",
    "version": 3
   },
   "file_extension": ".py",
   "mimetype": "text/x-python",
   "name": "python",
   "nbconvert_exporter": "python",
   "pygments_lexer": "ipython3",
   "version": "3.6.4"
  }
 },
 "nbformat": 4,
 "nbformat_minor": 2
}
