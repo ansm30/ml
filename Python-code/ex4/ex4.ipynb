{
 "cells": [
  {
   "cell_type": "code",
   "execution_count": 75,
   "metadata": {},
   "outputs": [],
   "source": [
    "import numpy as np\n",
    "import matplotlib.pyplot as plt\n",
    "import scipy.optimize as opt\n",
    "import multiprocessing as mp\n",
    "import pandas as pd\n",
    "import scipy.io as sio"
   ]
  },
  {
   "cell_type": "code",
   "execution_count": 76,
   "metadata": {},
   "outputs": [
    {
     "name": "stdout",
     "output_type": "stream",
     "text": [
      "Loading and Visualizing Data ...\n",
      "\n",
      "5000\n",
      "[3625 1503  827 ...  720  541  263]\n"
     ]
    }
   ],
   "source": [
    "input_layer_size  = 400\n",
    "hidden_layer_size = 25\n",
    "num_labels = 10\n",
    "print('Loading and Visualizing Data ...\\n')\n",
    "mat_contents = sio.loadmat('ex4data1.mat')\n",
    "X = mat_contents['X']\n",
    "y = mat_contents['y']\n",
    "m = len(y)\n",
    "print(m)\n",
    "\n",
    "rand_indices = np.random.permutation(m)\n",
    "print(rand_indices)\n",
    "rand_indices = rand_indices.reshape(-1, 1)\n",
    "sel = X[rand_indices[0:100, :]]\n",
    "\n"
   ]
  },
  {
   "cell_type": "code",
   "execution_count": 77,
   "metadata": {},
   "outputs": [],
   "source": [
    "def displayData(X):\n",
    "    fig, ax = plt.subplots(10,10,sharex=True,sharey=True)\n",
    "    img_num = 0\n",
    "    for i in range(10):\n",
    "        for j in range(10):\n",
    "            # Convert column vector into 20x20 pixel matrix\n",
    "            # You have to transpose to display correctly\n",
    "            img = X[img_num,:].reshape(20,20).T\n",
    "            ax[i][j].imshow(img,cmap='gray')\n",
    "            img_num += 1\n",
    "\n",
    "    return (fig, ax)\n",
    "    \n",
    "#figure, ax = displayData(sel)\n",
    "#figure.show()"
   ]
  },
  {
   "cell_type": "code",
   "execution_count": 78,
   "metadata": {},
   "outputs": [
    {
     "name": "stdout",
     "output_type": "stream",
     "text": [
      "\n",
      "Loading Saved Neural Network Parameters ...\n",
      "\n",
      "(25, 401)\n",
      "(10, 26)\n",
      "-1.0562416310683364e-08\n",
      "-1.2124449845935756\n"
     ]
    }
   ],
   "source": [
    "print('\\nLoading Saved Neural Network Parameters ...\\n')\n",
    "nn_contents = sio.loadmat('ex4weights.mat')\n",
    "\n",
    "Theta1 = nn_contents['Theta1']\n",
    "Theta2 = nn_contents['Theta2']\n",
    "\n",
    "nn_params = np.concatenate((Theta1.reshape(Theta1.size, 1, order='F'), Theta2.reshape(Theta2.size, 1, order='F')), axis=0)# [Theta1(:) ; Theta2(:)];\n",
    "print(Theta1.shape)\n",
    "print(Theta2.shape)\n",
    "print(Theta1[0][1])\n",
    "print(Theta2[0][1])"
   ]
  },
  {
   "cell_type": "code",
   "execution_count": 79,
   "metadata": {},
   "outputs": [],
   "source": [
    "def sigmoid(z):\n",
    "    return 1 / (1 + np.exp(-z));"
   ]
  },
  {
   "cell_type": "code",
   "execution_count": 80,
   "metadata": {},
   "outputs": [],
   "source": [
    "def sigmoidGradient(z):\n",
    "    return sigmoid(z) * (1-sigmoid(z))"
   ]
  },
  {
   "cell_type": "code",
   "execution_count": 98,
   "metadata": {},
   "outputs": [
    {
     "name": "stdout",
     "output_type": "stream",
     "text": [
      "\n",
      "Feedforward Using Neural Network ...\n",
      "\n"
     ]
    }
   ],
   "source": [
    "def nnCostFunction(nn_params_l, input_layer_size_l, hidden_layer_size_l, num_labels_l, X_l, y_l, lambda_l):\n",
    "    #print(input_layer_size_l)\n",
    "    #print(hidden_layer_size_l)\n",
    "    #Theta1 = reshape(nn_params_l(1:hidden_layer_size_l * (input_layer_size_l + 1)), hidden_layer_size_l, (input_layer_size_l + 1));\n",
    "    Theta1_l = nn_params_l[0:(hidden_layer_size_l * (input_layer_size_l + 1))].reshape(input_layer_size_l + 1, hidden_layer_size_l).T\n",
    "    Theta2_l = nn_params_l[(Theta1_l.size):nn_params_l.size].reshape(hidden_layer_size_l + 1, num_labels_l).T\n",
    "    #print(Theta1_l[0][1])\n",
    "    #print(Theta2_l[0][1])\n",
    "    print('\\nFeedforward Using Neural Network ...\\n')\n",
    "    \n",
    "    m = X_l.shape[0] #5000X400    \n",
    "    X_l = np.c_[np.ones((m, 1)), X_l] #5000X401\n",
    "    z1 = X_l.dot(Theta1.T)\n",
    "    a1 = sigmoid(z1)\n",
    "    a1 = np.c_[np.ones((m, 1)), a1]\n",
    "    \n",
    "    z2=  a1.dot(Theta2.T)\n",
    "\n",
    "    h = sigmoid(z2)\n",
    "    #print(h[: 2])\n",
    "    J = 0\n",
    "    for k in range(1, num_labels_l + 1):\n",
    "        yk = (y==k) * 1\n",
    "        J = J - (1/m) * np.sum(yk * np.log(h.T[k-1:k].T) + (1-yk) * np.log(1-h.T[k-1:k].T))    \n",
    "    #print(J)\n",
    "    \n",
    "    rtheta1 = np.sum(np.sum(np.square(Theta1_l[:,1:])))\n",
    "    rtheta2 = np.sum(np.sum(np.square(Theta2_l[:,1:])))\n",
    "    bias = lambda_l/(2*m)\n",
    "    \n",
    "    J= J + (bias * (rtheta1+rtheta2))\n",
    "    Del1, Del2 = 0, 0\n",
    "    \n",
    "    for t in range(m): \n",
    "        A1 = X_l[t,:].T.reshape(-1, 1) # all columns with one row at a time\n",
    "        Z2 = Theta1_l.dot(A1)\n",
    "        A2 = np.concatenate((np.c_[np.array([1])], sigmoid(Z2).reshape(-1,1)))\n",
    "        Z3 = Theta2.dot(A2)\n",
    "        H = sigmoid(Z3)\n",
    "        actual = y[t,:].reshape(-1,1)\n",
    "        yk = np.zeros((num_labels,1))\n",
    "        yk[actual - 1] = 1\n",
    "        del3 = H - yk;\n",
    "        del2 = (Theta2_l[:,1:].T.dot(del3)) * sigmoidGradient(Z2).reshape(-1, 1)\n",
    "        #print(A2.shape)\n",
    "        Del1 = Del1 + del2.dot(A1.T)\n",
    "        Del2 = Del2 + del3.dot(A2.T)\n",
    "    \n",
    "lambda_val = 0\n",
    "\n",
    "J = nnCostFunction(nn_params, input_layer_size, hidden_layer_size, num_labels, X, y, lambda_val)\n"
   ]
  },
  {
   "cell_type": "code",
   "execution_count": null,
   "metadata": {},
   "outputs": [],
   "source": []
  },
  {
   "cell_type": "code",
   "execution_count": null,
   "metadata": {},
   "outputs": [],
   "source": []
  },
  {
   "cell_type": "code",
   "execution_count": null,
   "metadata": {},
   "outputs": [],
   "source": []
  },
  {
   "cell_type": "code",
   "execution_count": null,
   "metadata": {},
   "outputs": [],
   "source": [
    "(Theta1.size + 1)\n",
    "nn_params.size"
   ]
  },
  {
   "cell_type": "code",
   "execution_count": null,
   "metadata": {},
   "outputs": [],
   "source": [
    "a = np.random.rand(4, 4)\n"
   ]
  },
  {
   "cell_type": "code",
   "execution_count": null,
   "metadata": {},
   "outputs": [],
   "source": [
    "a"
   ]
  },
  {
   "cell_type": "code",
   "execution_count": null,
   "metadata": {},
   "outputs": [],
   "source": [
    "#print(a[:,2:3])\n",
    "a[3,:]"
   ]
  },
  {
   "cell_type": "code",
   "execution_count": null,
   "metadata": {},
   "outputs": [],
   "source": [
    "(hidden_layer_size * (input_layer_size + 1))"
   ]
  },
  {
   "cell_type": "code",
   "execution_count": null,
   "metadata": {},
   "outputs": [],
   "source": []
  }
 ],
 "metadata": {
  "kernelspec": {
   "display_name": "Python 3",
   "language": "python",
   "name": "python3"
  },
  "language_info": {
   "codemirror_mode": {
    "name": "ipython",
    "version": 3
   },
   "file_extension": ".py",
   "mimetype": "text/x-python",
   "name": "python",
   "nbconvert_exporter": "python",
   "pygments_lexer": "ipython3",
   "version": "3.6.4"
  }
 },
 "nbformat": 4,
 "nbformat_minor": 2
}
