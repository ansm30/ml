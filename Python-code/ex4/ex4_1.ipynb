{
 "cells": [
  {
   "cell_type": "code",
   "execution_count": 1,
   "metadata": {},
   "outputs": [],
   "source": [
    "import scipy.io as sio\n",
    "import numpy as np\n",
    "import matplotlib.pyplot as plt\n",
    "from scipy.optimize import minimize\n"
   ]
  },
  {
   "cell_type": "code",
   "execution_count": 2,
   "metadata": {},
   "outputs": [],
   "source": [
    "def displayData(X):\n",
    "    \n",
    "    num_plots = int(np.size(X,0)**.5)\n",
    "    fig, ax = plt.subplots(num_plots,num_plots,sharex=True,sharey=True)\n",
    "    img_num = 0\n",
    "    for i in range(num_plots):\n",
    "        for j in range(num_plots):\n",
    "            # Convert column vector into 20x20 pixel matrix\n",
    "            # transpose\n",
    "            img = X[img_num,:].reshape(20,20).T\n",
    "            ax[i][j].imshow(img,cmap='gray')\n",
    "            img_num += 1\n",
    "\n",
    "    return (fig, ax)"
   ]
  },
  {
   "cell_type": "code",
   "execution_count": 3,
   "metadata": {},
   "outputs": [
    {
     "name": "stdout",
     "output_type": "stream",
     "text": [
      "Loading and Visualizing Data ...\n",
      "\n"
     ]
    }
   ],
   "source": [
    "input_layer_size  = 400;  # 20x20 Input Images of Digits\n",
    "hidden_layer_size = 25;   # 25 hidden units\n",
    "num_labels = 10;          # 10 labels, from 1 to 10   \n",
    "\n",
    "print('Loading and Visualizing Data ...\\n')\n",
    "data = sio.loadmat('ex4data1.mat')\n",
    "X=data['X']\n",
    "y=data['y']\n",
    "m = X.shape[0]\n",
    "\n",
    "rand_indices = np.random.permutation(m) # shuffle number \n",
    "sel = X[rand_indices[0:100]] # choose first 100 number \n",
    "\n",
    "# digit_grid,ax = displayData(sel) # display diagram \n",
    "# digit_grid.show()  "
   ]
  },
  {
   "cell_type": "code",
   "execution_count": 4,
   "metadata": {},
   "outputs": [
    {
     "name": "stdout",
     "output_type": "stream",
     "text": [
      "\n",
      "Loading Saved Neural Network Parameters ...\n",
      "\n"
     ]
    }
   ],
   "source": [
    "# ================ Part 2: Loading Parameters ================\n",
    "    \n",
    "print('\\nLoading Saved Neural Network Parameters ...\\n')\n",
    "data = sio.loadmat('ex4weights.mat')\n",
    "Theta1 = data['Theta1']\n",
    "Theta2 = data['Theta2']\n",
    "\n",
    "nn_params = np.concatenate((Theta1.T.reshape(Theta1.size,1), Theta2.reshape(Theta2.size,1)), axis=0)\n",
    "lamb = 0;\n"
   ]
  },
  {
   "cell_type": "code",
   "execution_count": 5,
   "metadata": {},
   "outputs": [],
   "source": [
    "def sigmoid(z):\n",
    "    g = 1/(1+np.exp(-z))\n",
    "    return g"
   ]
  },
  {
   "cell_type": "code",
   "execution_count": 6,
   "metadata": {},
   "outputs": [],
   "source": [
    "def sigmoidGradient(z):\n",
    "    g = sigmoid(z)* (1-sigmoid(z))\n",
    "    return g"
   ]
  },
  {
   "cell_type": "code",
   "execution_count": 7,
   "metadata": {},
   "outputs": [],
   "source": [
    "# # print(Theta1.shape)\n",
    "# T1 = nn_params[:(hidden_layer_size*(input_layer_size+1))].reshape((input_layer_size+1),hidden_layer_size).T\n",
    "# # print(T1 == Theta1)\n",
    "# print(Theta2.shape)\n",
    "# T2 = nn_params[-(num_labels*(hidden_layer_size+1)):].reshape(num_labels,(hidden_layer_size+1))\n",
    "# print(T2==Theta2)"
   ]
  },
  {
   "cell_type": "code",
   "execution_count": 8,
   "metadata": {},
   "outputs": [],
   "source": [
    "def nnCostFunction(nn_params, input_layer_size, hidden_layer_size, num_labels, X, y, lamb):\n",
    "    m = X.shape[0]\n",
    "\n",
    "    X = np.c_[np.ones(m),X]\n",
    "    J=0\n",
    "    Theta1 = nn_params[:(hidden_layer_size*(input_layer_size+1))].reshape((input_layer_size+1),hidden_layer_size).T\n",
    "    Theta2 = nn_params[-(num_labels*(hidden_layer_size+1)):].reshape(num_labels,(hidden_layer_size+1))\n",
    "#     print(\"Theta1 shape \", Theta1.shape)\n",
    "#     print(\"Theta2 shape \", Theta2.shape)\n",
    "#     print(\"X shape \", X.shape)\n",
    "    a1 = sigmoid(X.dot(Theta1.T)) # X = 5000* 401 , Theta1.T =401*25 a1= 5000*25\n",
    "    assert(a1.shape==(X.shape[0],Theta1.shape[0]))\n",
    "    a1 = np.c_[np.ones(m), a1] # add ones in a1 so a1.shape = 5000*26\n",
    "    h= sigmoid(a1.dot(Theta2.T)) # a1=5000*26 and Theta2 =10*26 so h = 5000*10\n",
    "    assert(h.shape == (a1.shape[0],Theta2.shape[0]))\n",
    "    for i in range(1,num_labels+1):\n",
    "        yk = (y==i)*1\n",
    "        \n",
    "        h_of_x = (h[:,i-1].reshape(-1,1))\n",
    "        J = J - (np.sum((yk*np.log(h_of_x)) + ((1-yk)*np.log(1-h_of_x))))/m\n",
    "    \n",
    "    \n",
    "    rtheta1=np.sum(np.square(Theta1[:,1:]))\n",
    "    rtheta2=np.sum(np.square(Theta2[:,1:]))\n",
    "    bias = lamb/(2*m)\n",
    "    J= J+(bias*(rtheta1+rtheta2));\n",
    "    Del1=0\n",
    "    Del2=0\n",
    "    for t in range(1,m+1):\n",
    "        A1 = X[t-1:t].T\n",
    "        Z2 = Theta1.dot(A1)\n",
    "        a = np.array([1]).reshape(-1,1)\n",
    "        A2 = np.concatenate((a,sigmoid(Z2)), axis=0)\n",
    "        Z3 = Theta2.dot(A2)\n",
    "        H = sigmoid(Z3)\n",
    "        actual = y[t-1];\n",
    "        yk= np.zeros((num_labels,1))\n",
    "        yk[actual-1] = 1;\n",
    "        del3 = H - yk;\n",
    "        del2 =(Theta2[:,1:].T.dot(del3)) * sigmoidGradient(Z2)\n",
    "        Del1 = Del1 + del2 * A1.T\n",
    "        Del2 = Del2 + del3 * A2.T\n",
    "\n",
    "    Theta1_grad = (Del1/m) + (lamb/m) * np.concatenate((np.zeros((hidden_layer_size,1)),Theta1[:,1:]), axis=1)\n",
    "    Theta2_grad = (Del2/m) + (lamb/m) *  np.concatenate((np.zeros((num_labels,1)), Theta2[:,1:]), axis=1)\n",
    "\n",
    "    grad = np.concatenate((Theta1_grad.T.reshape(Theta1_grad.size,1), Theta2_grad.reshape(Theta2_grad.size,1)), axis=0)  \n",
    "    grad = grad.reshape(-1)\n",
    "   \n",
    "    return J,grad\n"
   ]
  },
  {
   "cell_type": "code",
   "execution_count": 9,
   "metadata": {},
   "outputs": [
    {
     "name": "stdout",
     "output_type": "stream",
     "text": [
      "Cost at parameters (loaded from ex4weights):0.2876291651613189 \n",
      "(this value should be about 0.287629)\n"
     ]
    }
   ],
   "source": [
    "J,grad=nnCostFunction(nn_params, input_layer_size, hidden_layer_size, num_labels, X, y, lamb)\n",
    "\n",
    "\n",
    "print('Cost at parameters (loaded from ex4weights):{} \\n(this value should be about 0.287629)'.format(J));\n"
   ]
  },
  {
   "cell_type": "code",
   "execution_count": 10,
   "metadata": {},
   "outputs": [
    {
     "name": "stdout",
     "output_type": "stream",
     "text": [
      "\n",
      "Checking Cost Function (w/ Regularization) ... \n",
      "\n",
      "Cost at parameters (loaded from ex4weights): 0.38376985909092365 \n",
      "(this value should be about 0.383770)\n"
     ]
    }
   ],
   "source": [
    "#=============== Part 4: Implement Regularization ===============\n",
    "\n",
    "print('\\nChecking Cost Function (w/ Regularization) ... \\n')\n",
    "\n",
    "lamb = 1;\n",
    "\n",
    "J, grad = nnCostFunction(nn_params, input_layer_size, hidden_layer_size,num_labels, X, y, lamb)\n",
    "\n",
    "print('Cost at parameters (loaded from ex4weights): {} \\n(this value should be about 0.383770)'.format(J));"
   ]
  },
  {
   "cell_type": "code",
   "execution_count": 11,
   "metadata": {},
   "outputs": [
    {
     "name": "stdout",
     "output_type": "stream",
     "text": [
      "\n",
      "Evaluating sigmoid gradient...\n",
      "\n",
      "Sigmoid gradient evaluated at [-1 -0.5 0 0.5 1]:\n",
      "  \n",
      "[0.19661193 0.23500371 0.25       0.23500371 0.19661193]\n",
      "\n",
      "\n",
      "\n"
     ]
    }
   ],
   "source": [
    "# ================ Part 5: Sigmoid Gradient  ================\n",
    "\n",
    "print('\\nEvaluating sigmoid gradient...\\n')\n",
    "\n",
    "g = sigmoidGradient(np.array([-1 ,-0.5, 0, 0.5, 1]) );\n",
    "print('Sigmoid gradient evaluated at [-1 -0.5 0 0.5 1]:\\n  ');\n",
    "print(g);\n",
    "print('\\n\\n');"
   ]
  },
  {
   "cell_type": "code",
   "execution_count": 12,
   "metadata": {},
   "outputs": [],
   "source": [
    "def randInitializeWeights(L_in, L_out):\n",
    "    epsilon_init = 0.12;\n",
    "    W = np.random.rand(L_out,1+L_in)*2*epsilon_init-epsilon_init\n",
    "    return W"
   ]
  },
  {
   "cell_type": "code",
   "execution_count": 13,
   "metadata": {},
   "outputs": [],
   "source": [
    "np.random.seed(0)\n",
    "initial_Theta1 = randInitializeWeights(input_layer_size, hidden_layer_size)\n",
    "initial_Theta2 = randInitializeWeights(hidden_layer_size, num_labels)\n",
    "\n",
    "\n",
    "initial_nn_params = np.concatenate((initial_Theta1.T.reshape(initial_Theta1.size,1), initial_Theta2.reshape(initial_Theta2.size,1)))\n",
    "\n",
    "# print(initial_nn_params.shape)\n",
    "# print(initial_nn_params)"
   ]
  },
  {
   "cell_type": "code",
   "execution_count": 14,
   "metadata": {},
   "outputs": [],
   "source": [
    "def debugInitializeWeights(fan_out, fan_in):\n",
    "    w=np.zeros((fan_out,fan_in+1))\n",
    "    w=np.array([np.sin(w) for w in range(1,np.size(w)+1)]).reshape(w.shape[1],w.shape[0]).T\n",
    "    \n",
    "    return w"
   ]
  },
  {
   "cell_type": "code",
   "execution_count": 15,
   "metadata": {},
   "outputs": [],
   "source": [
    "# x1=debugInitializeWeights(5,3)\n",
    "# print(x1)"
   ]
  },
  {
   "cell_type": "code",
   "execution_count": 16,
   "metadata": {},
   "outputs": [],
   "source": [
    "def computeNumericalGradient(J, theta):\n",
    "    numgrad = np.zeros(theta.shape)\n",
    "    perturb = np.zeros(theta.shape)\n",
    "    e = 1e-4;\n",
    "    for p in range(len(theta)):\n",
    "        perturb[p] = e\n",
    "        loss1 = J(theta - perturb);\n",
    "        loss2 = J(theta + perturb);\n",
    "        numgrad[p] = (loss2 - loss1) / (2*e);\n",
    "        perturb[p] = 0;\n",
    "    return numgrad"
   ]
  },
  {
   "cell_type": "code",
   "execution_count": 17,
   "metadata": {},
   "outputs": [],
   "source": [
    "def checkNNGradients(lamb=0):\n",
    "    input_layer_size = 3\n",
    "    hidden_layer_size = 5\n",
    "    num_labels = 3\n",
    "    m = 5\n",
    "    Theta1 = debugInitializeWeights(hidden_layer_size, input_layer_size)\n",
    "#     print(Theta1)\n",
    "    Theta2 = debugInitializeWeights(num_labels, hidden_layer_size)\n",
    "    X  = debugInitializeWeights(m, input_layer_size - 1)\n",
    "#     t = [i for i in range(1,m+1)]\n",
    "    y = np.mod([i for i in range(1,m+1)],num_labels).reshape(-1,1) +1\n",
    "  \n",
    "    nn_params = np.concatenate((Theta1.T.reshape(Theta1.size,1), Theta2.T.reshape(Theta2.size,1)))\n",
    "#     print(Theta1)\n",
    "#     print(Theta2)\n",
    "#     print(nn_params)\n",
    "    \n",
    "    cost, grad = nnCostFunction(nn_params,input_layer_size,hidden_layer_size, num_labels, X, y, lamb)\n",
    "    \n",
    "    def reduced_cost_func(p):\n",
    "        return nnCostFunction(p,input_layer_size,hidden_layer_size,num_labels,\n",
    "                          X,y,lamb)[0]\n",
    "    \n",
    " \n",
    "    numgrad = computeNumericalGradient(reduced_cost_func,nn_params)\n",
    "    print(np.c_[numgrad, grad])\n",
    "    diff = np.linalg.norm(numgrad-grad)/np.linalg.norm(numgrad+grad);\n",
    "    print(diff)\n",
    "    return\n"
   ]
  },
  {
   "cell_type": "code",
   "execution_count": 18,
   "metadata": {},
   "outputs": [
    {
     "name": "stdout",
     "output_type": "stream",
     "text": [
      "[[ 0.18224256  0.18224256]\n",
      " [ 0.0591135   0.0591135 ]\n",
      " [-0.08086345 -0.08086345]\n",
      " [-0.18751164 -0.18751164]\n",
      " [-0.08160758 -0.08160758]\n",
      " [ 0.00738798  0.00738798]\n",
      " [-0.01101324 -0.01101324]\n",
      " [ 0.00930873  0.00930873]\n",
      " [-0.01666321 -0.01666321]\n",
      " [ 0.01760371  0.01760371]\n",
      " [ 0.03932262  0.03932262]\n",
      " [ 0.02289973  0.02289973]\n",
      " [-0.00269066 -0.00269066]\n",
      " [-0.0373132  -0.0373132 ]\n",
      " [-0.02494044 -0.02494044]\n",
      " [ 0.01492069  0.01492069]\n",
      " [ 0.02400482  0.02400482]\n",
      " [-0.01083521 -0.01083521]\n",
      " [-0.00450548 -0.00450548]\n",
      " [-0.03175303 -0.03175303]\n",
      " [ 0.44140153  0.44140153]\n",
      " [ 0.32576013  0.32576013]\n",
      " [ 0.2884691   0.2884691 ]\n",
      " [ 0.21041122  0.21041122]\n",
      " [ 0.12341796  0.12341796]\n",
      " [ 0.14080393  0.14080393]\n",
      " [ 0.2496489   0.2496489 ]\n",
      " [ 0.14604166  0.14604166]\n",
      " [ 0.15616904  0.15616904]\n",
      " [ 0.12971082  0.12971082]\n",
      " [ 0.10914671  0.10914671]\n",
      " [ 0.09013237  0.09013237]\n",
      " [ 0.24535195  0.24535195]\n",
      " [ 0.14687039  0.14687039]\n",
      " [ 0.14566906  0.14566906]\n",
      " [ 0.14562146  0.14562146]\n",
      " [ 0.10137001  0.10137001]\n",
      " [ 0.10021823  0.10021823]]\n",
      "0.721232461360277\n"
     ]
    }
   ],
   "source": [
    "checkNNGradients()"
   ]
  },
  {
   "cell_type": "code",
   "execution_count": 19,
   "metadata": {},
   "outputs": [
    {
     "name": "stdout",
     "output_type": "stream",
     "text": [
      "[[ 0.18224256  0.18224256]\n",
      " [ 0.0591135   0.0591135 ]\n",
      " [-0.08086345 -0.08086345]\n",
      " [-0.18751164 -0.18751164]\n",
      " [-0.08160758 -0.08160758]\n",
      " [-0.16026132 -0.16026132]\n",
      " [ 0.38317872  0.38317872]\n",
      " [ 0.60292368  0.60292368]\n",
      " [ 0.23060788  0.23060788]\n",
      " [-0.30880895 -0.30880895]\n",
      " [-0.56067151 -0.56067151]\n",
      " [-0.29904402 -0.29904402]\n",
      " [ 0.24940956  0.24940956]\n",
      " [ 0.55705122  0.55705122]\n",
      " [ 0.36523226  0.36523226]\n",
      " [-0.1578213  -0.1578213 ]\n",
      " [-0.55283368 -0.55283368]\n",
      " [-0.46142755 -0.46142755]\n",
      " [ 0.08542085  0.08542085]\n",
      " [ 0.51601412  0.51601412]\n",
      " [ 0.44140153  0.44140153]\n",
      " [ 0.87133858  0.87133858]\n",
      " [ 0.3731411   0.3731411 ]\n",
      " [-0.24367028 -0.24367028]\n",
      " [-0.4519366  -0.4519366 ]\n",
      " [-0.02684537 -0.02684537]\n",
      " [ 0.2496489   0.2496489 ]\n",
      " [ 0.73965661  0.73965661]\n",
      " [ 0.40344013  0.40344013]\n",
      " [-0.19670184 -0.19670184]\n",
      " [-0.49084741 -0.49084741]\n",
      " [-0.23181138 -0.23181138]\n",
      " [ 0.24535195  0.24535195]\n",
      " [ 0.74123481  0.74123481]\n",
      " [ 0.53584176  0.53584176]\n",
      " [-0.02712053 -0.02712053]\n",
      " [-0.47546848 -0.47546848]\n",
      " [-0.35037412 -0.35037412]]\n",
      "0.974114732326128\n"
     ]
    }
   ],
   "source": [
    "lamb = 3;\n",
    "checkNNGradients(lamb);\n"
   ]
  },
  {
   "cell_type": "code",
   "execution_count": 20,
   "metadata": {},
   "outputs": [
    {
     "name": "stdout",
     "output_type": "stream",
     "text": [
      "Cost at (fixed) debugging parameters (w/ lambda = 3.0):0.5760512469501331 \n",
      "(for lambda = 3, this value should be about 0.576051)\n",
      "\n",
      "\n"
     ]
    }
   ],
   "source": [
    "lamb=3.0\n",
    "debug_J,grad  = nnCostFunction(nn_params, input_layer_size,hidden_layer_size, num_labels, X, y, lamb);\n",
    "\n",
    "print('Cost at (fixed) debugging parameters (w/ lambda = {}):{} \\n(for lambda = 3, this value should be about 0.576051)\\n\\n'.format(lamb, debug_J))"
   ]
  },
  {
   "cell_type": "code",
   "execution_count": 21,
   "metadata": {},
   "outputs": [
    {
     "name": "stdout",
     "output_type": "stream",
     "text": [
      "Warning: Maximum number of iterations has been exceeded.\n",
      "         Current function value: 0.452688\n",
      "         Iterations: 50\n",
      "         Function evaluations: 113\n",
      "         Gradient evaluations: 113\n"
     ]
    }
   ],
   "source": [
    "lamb = 1;\n",
    "\n",
    "def reduced_cost_func(p):\n",
    "    return nnCostFunction(p,input_layer_size,hidden_layer_size,num_labels,\n",
    "                          X,y,lamb)\n",
    "\n",
    "results = minimize(reduced_cost_func,\n",
    "                   initial_nn_params,\n",
    "                   method=\"CG\",\n",
    "                   jac=True,\n",
    "                   options={'maxiter':50, \"disp\":True})\n"
   ]
  },
  {
   "cell_type": "code",
   "execution_count": 22,
   "metadata": {},
   "outputs": [
    {
     "data": {
      "image/png": "[encoded data removed]",
      "text/plain": [
       "<matplotlib.figure.Figure at 0x7f7d19082588>"
      ]
     },
     "metadata": {},
     "output_type": "display_data"
    }
   ],
   "source": [
    "displayData(Theta1[:,1:]);\n"
   ]
  },
  {
   "cell_type": "code",
   "execution_count": 23,
   "metadata": {},
   "outputs": [],
   "source": [
    "def predict(Theta1, Theta2, X):\n",
    "    X = np.c_[np.ones(m),X]\n",
    "    a1 = sigmoid(X.dot(Theta1.T))\n",
    "    k = a1.shape[0]\n",
    "    a2 = np.c_[np.ones(k),a1]\n",
    "    a3= sigmoid(a2.dot(Theta2.T))\n",
    "#     max_value=a3.max(axis=1)\n",
    "    index = a3.argmax(axis=1)\n",
    "    p=np.c_[index]\n",
    "    return p\n"
   ]
  },
  {
   "cell_type": "code",
   "execution_count": 24,
   "metadata": {},
   "outputs": [
    {
     "name": "stdout",
     "output_type": "stream",
     "text": [
      "97.52\n"
     ]
    }
   ],
   "source": [
    "pred = predict(Theta1, Theta2, X);\n",
    "print(np.mean((pred+1)==y)*100)"
   ]
  },
  {
   "cell_type": "code",
   "execution_count": null,
   "metadata": {},
   "outputs": [],
   "source": []
  },
  {
   "cell_type": "code",
   "execution_count": 25,
   "metadata": {},
   "outputs": [
    {
     "name": "stdout",
     "output_type": "stream",
     "text": [
      "[[1]\n",
      " [2]\n",
      " [0]\n",
      " [1]\n",
      " [2]]\n"
     ]
    }
   ],
   "source": [
    "m=5\n",
    "num_labels = 3;\n",
    "\n",
    "t = [i for i in range(1,m+1)]\n",
    "print(np.mod(t,num_labels).reshape(-1,1))"
   ]
  },
  {
   "cell_type": "code",
   "execution_count": 26,
   "metadata": {},
   "outputs": [
    {
     "name": "stdout",
     "output_type": "stream",
     "text": [
      "[[ 0.84147098  0.90929743  0.14112001 -0.7568025 ]\n",
      " [-0.95892427 -0.2794155   0.6569866   0.98935825]\n",
      " [ 0.41211849 -0.54402111 -0.99999021 -0.53657292]\n",
      " [ 0.42016704  0.99060736  0.65028784 -0.28790332]\n",
      " [-0.96139749 -0.75098725  0.14987721  0.91294525]]\n"
     ]
    }
   ],
   "source": [
    "w=np.zeros((5,4))\n",
    "print(np.array([np.sin(w) for w in range(1,np.size(w)+1)]).reshape(w.shape[0],w.shape[1]))"
   ]
  },
  {
   "cell_type": "code",
   "execution_count": 27,
   "metadata": {},
   "outputs": [
    {
     "name": "stdout",
     "output_type": "stream",
     "text": [
      "[[0.37142028 0.88655434 0.37860413 0.01931643 0.14493369]\n",
      " [0.34620824 0.1663522  0.82298146 0.99873161 0.33416302]\n",
      " [0.48518635 0.04761817 0.19446411 0.22906051 0.38748291]]\n",
      "[[0.82641661 0.39921027 0.74142861]\n",
      " [0.52858989 0.6636492  0.19722378]\n",
      " [0.03881181 0.24667046 0.10123266]\n",
      " [0.70266819 0.56922552 0.79368845]\n",
      " [0.40259639 0.26049217 0.86104086]]\n"
     ]
    }
   ],
   "source": [
    "\n",
    "a = np.random.rand(3,5)\n",
    "b= np.random.rand(5,3)\n",
    "print(a)\n",
    "print(b)\n",
    "\n",
    "\n",
    "# print(nn)"
   ]
  },
  {
   "cell_type": "code",
   "execution_count": 28,
   "metadata": {},
   "outputs": [
    {
     "name": "stdout",
     "output_type": "stream",
     "text": [
      "[[0.82641661 0.52858989 0.03881181]\n",
      " [0.70266819 0.40259639 0.39921027]\n",
      " [0.6636492  0.24667046 0.56922552]\n",
      " [0.26049217 0.74142861 0.19722378]\n",
      " [0.10123266 0.79368845 0.86104086]]\n"
     ]
    }
   ],
   "source": [
    "\n",
    "nn = np.concatenate((a.T.reshape(a.size,1), b.T.reshape(b.size,1)))\n",
    "# print(nn)\n",
    "x = nn [-15:].reshape(5,3)\n",
    "\n",
    "print(x)"
   ]
  },
  {
   "cell_type": "code",
   "execution_count": null,
   "metadata": {},
   "outputs": [],
   "source": []
  },
  {
   "cell_type": "code",
   "execution_count": null,
   "metadata": {},
   "outputs": [],
   "source": []
  }
 ],
 "metadata": {
  "kernelspec": {
   "display_name": "Python 3",
   "language": "python",
   "name": "python3"
  },
  "language_info": {
   "codemirror_mode": {
    "name": "ipython",
    "version": 3
   },
   "file_extension": ".py",
   "mimetype": "text/x-python",
   "name": "python",
   "nbconvert_exporter": "python",
   "pygments_lexer": "ipython3",
   "version": "3.6.4"
  }
 },
 "nbformat": 4,
 "nbformat_minor": 2
}
