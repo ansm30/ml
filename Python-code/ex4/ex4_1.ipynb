{
 "cells": [
  {
   "cell_type": "code",
   "execution_count": 1,
   "metadata": {},
   "outputs": [],
   "source": [
    "import scipy.io as sio\n",
    "import numpy as np\n",
    "import matplotlib.pyplot as plt\n",
    "from scipy.optimize import minimize\n"
   ]
  },
  {
   "cell_type": "code",
   "execution_count": 2,
   "metadata": {},
   "outputs": [],
   "source": [
    "def displayData(X):\n",
    "    \n",
    "    num_plots = int(np.size(X,0)**.5)\n",
    "    fig, ax = plt.subplots(num_plots,num_plots,sharex=True,sharey=True)\n",
    "    img_num = 0\n",
    "    for i in range(num_plots):\n",
    "        for j in range(num_plots):\n",
    "            # Convert column vector into 20x20 pixel matrix\n",
    "            # transpose\n",
    "            img = X[img_num,:].reshape(20,20).T\n",
    "            ax[i][j].imshow(img,cmap='gray')\n",
    "            img_num += 1\n",
    "\n",
    "    return (fig, ax)"
   ]
  },
  {
   "cell_type": "code",
   "execution_count": 3,
   "metadata": {},
   "outputs": [
    {
     "name": "stdout",
     "output_type": "stream",
     "text": [
      "Loading and Visualizing Data ...\n",
      "\n"
     ]
    }
   ],
   "source": [
    "input_layer_size  = 400;  # 20x20 Input Images of Digits\n",
    "hidden_layer_size = 25;   # 25 hidden units\n",
    "num_labels = 10;          # 10 labels, from 1 to 10   \n",
    "\n",
    "print('Loading and Visualizing Data ...\\n')\n",
    "data = sio.loadmat('ex4data1.mat')\n",
    "X=data['X']\n",
    "y=data['y']\n",
    "m = X.shape[0]\n",
    "\n",
    "rand_indices = np.random.permutation(m) # shuffle number \n",
    "sel = X[rand_indices[0:100]] # choose first 100 number \n",
    "\n",
    "# digit_grid,ax = displayData(sel) # display diagram \n",
    "# digit_grid.show()  "
   ]
  },
  {
   "cell_type": "code",
   "execution_count": 4,
   "metadata": {},
   "outputs": [
    {
     "name": "stdout",
     "output_type": "stream",
     "text": [
      "\n",
      "Loading Saved Neural Network Parameters ...\n",
      "\n"
     ]
    }
   ],
   "source": [
    "# ================ Part 2: Loading Parameters ================\n",
    "    \n",
    "print('\\nLoading Saved Neural Network Parameters ...\\n')\n",
    "data = sio.loadmat('ex4weights.mat')\n",
    "Theta1 = data['Theta1']\n",
    "Theta2 = data['Theta2']\n",
    "\n",
    "nn_params = np.concatenate((Theta1.T.reshape(Theta1.size,1), Theta2.reshape(Theta2.size,1)), axis=0)\n",
    "lamb = 0;\n"
   ]
  },
  {
   "cell_type": "code",
   "execution_count": 5,
   "metadata": {},
   "outputs": [],
   "source": [
    "def sigmoid(z):\n",
    "    g = 1/(1+np.exp(-z))\n",
    "    return g"
   ]
  },
  {
   "cell_type": "code",
   "execution_count": 6,
   "metadata": {},
   "outputs": [],
   "source": [
    "def sigmoidGradient(z):\n",
    "    g = sigmoid(z)* (1-sigmoid(z))\n",
    "    return g\n",
    "\n",
    "\n",
    "# print(Theta2)\n",
    "# print(Theta2.shape)"
   ]
  },
  {
   "cell_type": "code",
   "execution_count": 7,
   "metadata": {},
   "outputs": [
    {
     "name": "stdout",
     "output_type": "stream",
     "text": [
      "(10, 26)\n"
     ]
    }
   ],
   "source": [
    "# Theta2 = nn_params[-(num_labels*(hidden_layer_size+1)):].reshape((hidden_layer_size+1),num_labels).T\n",
    "# print(Theta2)\n",
    "# print(Theta2.shape)\n",
    "print(Theta2.shape)"
   ]
  },
  {
   "cell_type": "code",
   "execution_count": 8,
   "metadata": {},
   "outputs": [],
   "source": [
    "def nnCostFunction(nn_params, input_layer_size, hidden_layer_size, num_labels, X, y, lamb):\n",
    "    m = X.shape[0]\n",
    "\n",
    "    X = np.c_[np.ones(m),X]\n",
    "    J=0\n",
    "#     Theta1 = nn_params[:(hidden_layer_size*(input_layer_size+1))].reshape((input_layer_size+1),hidden_layer_size).T\n",
    "#     Theta2 = nn_params[-(num_labels*(hidden_layer_size+1)):].reshape((hidden_layer_size+1),num_labels).T\n",
    "#     print(\"Theta1 shape \", Theta1.shape)\n",
    "#     print(\"Theta2 shape \", Theta2.shape)\n",
    "#     print(\"X shape \", X.shape)\n",
    "    print(Theta1.shape)\n",
    "    a1 = sigmoid(X.dot(Theta1.T)) # X = 5000* 401 , Theta1.T =401*25 a1= 5000*25\n",
    "    assert(a1.shape==(X.shape[0],Theta1.shape[0]))\n",
    "    a1 = np.c_[np.ones(m), a1] # add ones in a1 so a1.shape = 5000*26\n",
    "    h= sigmoid(a1.dot(Theta2.T)) # a1=5000*26 and Theta2 =10*26 so h = 5000*10\n",
    "    assert(h.shape == (a1.shape[0],Theta2.shape[0]))\n",
    "    for i in range(1,num_labels+1):\n",
    "        yk = (y==i)*1\n",
    "        \n",
    "        h_of_x = (h[:,i-1].reshape(-1,1))\n",
    "        J = J - (np.sum((yk*np.log(h_of_x)) + ((1-yk)*np.log(1-h_of_x))))/m\n",
    "    \n",
    "    \n",
    "    rtheta1=np.sum(np.square(Theta1[:,1:]))\n",
    "    rtheta2=np.sum(np.square(Theta2[:,1:]))\n",
    "    bias = lamb/(2*m)\n",
    "    J= J+(bias*(rtheta1+rtheta2));\n",
    "    Del1=0\n",
    "    Del2=0\n",
    "    for t in range(1,m+1):\n",
    "        A1 = X[t-1:t].T\n",
    "        Z2 = Theta1.dot(A1)\n",
    "        a = np.array([1]).reshape(-1,1)\n",
    "        A2 = np.concatenate((a,sigmoid(Z2)), axis=0)\n",
    "        Z3 = Theta2.dot(A2)\n",
    "        H = sigmoid(Z3)\n",
    "        actual = y[t-1];\n",
    "        yk= np.zeros((num_labels,1))\n",
    "        yk[actual-1] = 1;\n",
    "        del3 = H - yk;\n",
    "        del2 =(Theta2[:,1:].T.dot(del3)) * sigmoidGradient(Z2)\n",
    "        Del1 = Del1 + del2 * A1.T\n",
    "        Del2 = Del2 + del3 * A2.T\n",
    "\n",
    "    Theta1_grad = (Del1/m) + (lamb/m) * np.concatenate((np.zeros((hidden_layer_size,1)),Theta1[:,1:]), axis=1)\n",
    "    Theta2_grad = (Del2/m) + (lamb/m) *  np.concatenate((np.zeros((num_labels,1)), Theta2[:,1:]), axis=1)\n",
    "\n",
    "    grad = np.concatenate((Theta1_grad.T.reshape(Theta1_grad.size,1), Theta2_grad.reshape(Theta2_grad.size,1)), axis=0)  \n",
    "    grad = grad.reshape(-1)\n",
    "   \n",
    "    return J,grad\n"
   ]
  },
  {
   "cell_type": "code",
   "execution_count": 9,
   "metadata": {},
   "outputs": [
    {
     "name": "stdout",
     "output_type": "stream",
     "text": [
      "(25, 401)\n",
      "Cost at parameters (loaded from ex4weights):0.2876291651613189 \n",
      "(this value should be about 0.287629)\n"
     ]
    }
   ],
   "source": [
    "J,grad=nnCostFunction(nn_params, input_layer_size, hidden_layer_size, num_labels, X, y, lamb)\n",
    "\n",
    "\n",
    "print('Cost at parameters (loaded from ex4weights):{} \\n(this value should be about 0.287629)'.format(J));\n"
   ]
  },
  {
   "cell_type": "code",
   "execution_count": 10,
   "metadata": {},
   "outputs": [
    {
     "name": "stdout",
     "output_type": "stream",
     "text": [
      "\n",
      "Checking Cost Function (w/ Regularization) ... \n",
      "\n",
      "(25, 401)\n",
      "Cost at parameters (loaded from ex4weights): 0.38376985909092365 \n",
      "(this value should be about 0.383770)\n"
     ]
    }
   ],
   "source": [
    "#=============== Part 4: Implement Regularization ===============\n",
    "\n",
    "print('\\nChecking Cost Function (w/ Regularization) ... \\n')\n",
    "\n",
    "lamb = 1;\n",
    "\n",
    "J, grad = nnCostFunction(nn_params, input_layer_size, hidden_layer_size,num_labels, X, y, lamb)\n",
    "\n",
    "print('Cost at parameters (loaded from ex4weights): {} \\n(this value should be about 0.383770)'.format(J));"
   ]
  },
  {
   "cell_type": "code",
   "execution_count": 11,
   "metadata": {},
   "outputs": [
    {
     "name": "stdout",
     "output_type": "stream",
     "text": [
      "\n",
      "Evaluating sigmoid gradient...\n",
      "\n",
      "Sigmoid gradient evaluated at [-1 -0.5 0 0.5 1]:\n",
      "  \n",
      "[0.19661193 0.23500371 0.25       0.23500371 0.19661193]\n",
      "\n",
      "\n",
      "\n"
     ]
    }
   ],
   "source": [
    "# ================ Part 5: Sigmoid Gradient  ================\n",
    "\n",
    "print('\\nEvaluating sigmoid gradient...\\n')\n",
    "\n",
    "g = sigmoidGradient(np.array([-1 ,-0.5, 0, 0.5, 1]) );\n",
    "print('Sigmoid gradient evaluated at [-1 -0.5 0 0.5 1]:\\n  ');\n",
    "print(g);\n",
    "print('\\n\\n');"
   ]
  },
  {
   "cell_type": "code",
   "execution_count": 12,
   "metadata": {},
   "outputs": [],
   "source": [
    "def randInitializeWeights(L_in, L_out):\n",
    "\n",
    "    epsilon_init = 0.12;\n",
    "    W = np.random.rand(L_out,1+L_in)*2*epsilon_init-epsilon_init\n",
    "    return W"
   ]
  },
  {
   "cell_type": "code",
   "execution_count": 13,
   "metadata": {},
   "outputs": [
    {
     "name": "stdout",
     "output_type": "stream",
     "text": [
      "(10285, 1)\n",
      "[[ 0.06849312]\n",
      " [ 0.06067317]\n",
      " [-0.09452564]\n",
      " ...\n",
      " [ 0.06881169]\n",
      " [-0.07246168]\n",
      " [-0.09537288]]\n"
     ]
    }
   ],
   "source": [
    "initial_Theta1 = randInitializeWeights(input_layer_size, hidden_layer_size)\n",
    "initial_Theta2 = randInitializeWeights(hidden_layer_size, num_labels)\n",
    "\n",
    "\n",
    "initial_nn_params = np.concatenate((initial_Theta1.T.reshape(initial_Theta1.size,1), initial_Theta2.reshape(initial_Theta2.size,1)))\n",
    "\n",
    "print(initial_nn_params.shape)\n",
    "print(initial_nn_params)"
   ]
  },
  {
   "cell_type": "code",
   "execution_count": 14,
   "metadata": {},
   "outputs": [],
   "source": [
    "def debugInitializeWeights(fan_out, fan_in):\n",
    "    w=np.zeros((fan_out,fan_in+1))\n",
    "    \n",
    "    w=np.array([np.sin(w) for w in range(1,np.size(w)+1)]).reshape(w.shape[0],w.shape[1])\n",
    "    \n",
    "    return w"
   ]
  },
  {
   "cell_type": "code",
   "execution_count": 15,
   "metadata": {},
   "outputs": [],
   "source": [
    "def computeNumericalGradient(J, theta):\n",
    "    numgrad = np.zeros(theta.shape)\n",
    "    perturb = np.zeros(theta.shape)\n",
    "    e = 1e-4;\n",
    "    for p in range(len(theta)):\n",
    "        perturb[p] = e\n",
    "        loss1 = J(theta - perturb);\n",
    "        loss2 = J(theta + perturb);\n",
    "        numgrad[p] = (loss2 - loss1) / (2*e);\n",
    "        perturb[p] = 0;\n",
    "    return numgrad"
   ]
  },
  {
   "cell_type": "code",
   "execution_count": 16,
   "metadata": {},
   "outputs": [],
   "source": [
    "def checkNNGradients(lamb=0):\n",
    "    input_layer_size = 3\n",
    "    hidden_layer_size = 5\n",
    "    num_labels = 3\n",
    "    m = 5\n",
    "    Theta1 = debugInitializeWeights(hidden_layer_size, input_layer_size)\n",
    "    Theta2 = debugInitializeWeights(num_labels, hidden_layer_size)\n",
    "    X  = debugInitializeWeights(m, input_layer_size - 1)\n",
    "#     t = [i for i in range(1,m+1)]\n",
    "    y = np.mod([i for i in range(1,m+1)],num_labels).reshape(-1,1)\n",
    "    print(Theta1.shape)\n",
    "    nn_params = np.concatenate((Theta1.T.reshape(Theta1.size,1), Theta2.reshape(Theta2.size,1)))\n",
    "\n",
    "    \n",
    "    cost, grad = nnCostFunction(nn_params,input_layer_size,hidden_layer_size, num_labels, X, y, lamb)\n",
    "    \n",
    "    def reduced_cost_func(p):\n",
    "        return nnCostFunction(p,input_layer_size,hidden_layer_size,num_labels,\n",
    "                          X,y,lamb)[0]\n",
    "    \n",
    " \n",
    "    numgrad = computeNumericalGradient(reduced_cost_func,nn_params)\n",
    "\n",
    "    print(numgrad, grad)\n",
    "\n",
    "    return\n"
   ]
  },
  {
   "cell_type": "code",
   "execution_count": 17,
   "metadata": {},
   "outputs": [
    {
     "name": "stdout",
     "output_type": "stream",
     "text": [
      "(5, 4)\n",
      "(25, 401)\n"
     ]
    },
    {
     "ename": "ValueError",
     "evalue": "shapes (5,4) and (401,25) not aligned: 4 (dim 1) != 401 (dim 0)",
     "output_type": "error",
     "traceback": [
      "\u001b[0;31m---------------------------------------------------------------------------\u001b[0m",
      "\u001b[0;31mValueError\u001b[0m                                Traceback (most recent call last)",
      "\u001b[0;32m<ipython-input-17-eae675562921>\u001b[0m in \u001b[0;36m<module>\u001b[0;34m()\u001b[0m\n\u001b[0;32m----> 1\u001b[0;31m \u001b[0mcheckNNGradients\u001b[0m\u001b[0;34m(\u001b[0m\u001b[0;34m)\u001b[0m\u001b[0;34m\u001b[0m\u001b[0m\n\u001b[0m",
      "\u001b[0;32m<ipython-input-16-bf5c8ba7f47f>\u001b[0m in \u001b[0;36mcheckNNGradients\u001b[0;34m(lamb)\u001b[0m\n\u001b[1;32m     13\u001b[0m \u001b[0;34m\u001b[0m\u001b[0m\n\u001b[1;32m     14\u001b[0m \u001b[0;34m\u001b[0m\u001b[0m\n\u001b[0;32m---> 15\u001b[0;31m     \u001b[0mcost\u001b[0m\u001b[0;34m,\u001b[0m \u001b[0mgrad\u001b[0m \u001b[0;34m=\u001b[0m \u001b[0mnnCostFunction\u001b[0m\u001b[0;34m(\u001b[0m\u001b[0mnn_params\u001b[0m\u001b[0;34m,\u001b[0m\u001b[0minput_layer_size\u001b[0m\u001b[0;34m,\u001b[0m\u001b[0mhidden_layer_size\u001b[0m\u001b[0;34m,\u001b[0m \u001b[0mnum_labels\u001b[0m\u001b[0;34m,\u001b[0m \u001b[0mX\u001b[0m\u001b[0;34m,\u001b[0m \u001b[0my\u001b[0m\u001b[0;34m,\u001b[0m \u001b[0mlamb\u001b[0m\u001b[0;34m)\u001b[0m\u001b[0;34m\u001b[0m\u001b[0m\n\u001b[0m\u001b[1;32m     16\u001b[0m \u001b[0;34m\u001b[0m\u001b[0m\n\u001b[1;32m     17\u001b[0m     \u001b[0;32mdef\u001b[0m \u001b[0mreduced_cost_func\u001b[0m\u001b[0;34m(\u001b[0m\u001b[0mp\u001b[0m\u001b[0;34m)\u001b[0m\u001b[0;34m:\u001b[0m\u001b[0;34m\u001b[0m\u001b[0m\n",
      "\u001b[0;32m<ipython-input-8-6c9f7b534e8b>\u001b[0m in \u001b[0;36mnnCostFunction\u001b[0;34m(nn_params, input_layer_size, hidden_layer_size, num_labels, X, y, lamb)\u001b[0m\n\u001b[1;32m     10\u001b[0m \u001b[0;31m#     print(\"X shape \", X.shape)\u001b[0m\u001b[0;34m\u001b[0m\u001b[0;34m\u001b[0m\u001b[0m\n\u001b[1;32m     11\u001b[0m     \u001b[0mprint\u001b[0m\u001b[0;34m(\u001b[0m\u001b[0mTheta1\u001b[0m\u001b[0;34m.\u001b[0m\u001b[0mshape\u001b[0m\u001b[0;34m)\u001b[0m\u001b[0;34m\u001b[0m\u001b[0m\n\u001b[0;32m---> 12\u001b[0;31m     \u001b[0ma1\u001b[0m \u001b[0;34m=\u001b[0m \u001b[0msigmoid\u001b[0m\u001b[0;34m(\u001b[0m\u001b[0mX\u001b[0m\u001b[0;34m.\u001b[0m\u001b[0mdot\u001b[0m\u001b[0;34m(\u001b[0m\u001b[0mTheta1\u001b[0m\u001b[0;34m.\u001b[0m\u001b[0mT\u001b[0m\u001b[0;34m)\u001b[0m\u001b[0;34m)\u001b[0m \u001b[0;31m# X = 5000* 401 , Theta1.T =401*25 a1= 5000*25\u001b[0m\u001b[0;34m\u001b[0m\u001b[0m\n\u001b[0m\u001b[1;32m     13\u001b[0m     \u001b[0;32massert\u001b[0m\u001b[0;34m(\u001b[0m\u001b[0ma1\u001b[0m\u001b[0;34m.\u001b[0m\u001b[0mshape\u001b[0m\u001b[0;34m==\u001b[0m\u001b[0;34m(\u001b[0m\u001b[0mX\u001b[0m\u001b[0;34m.\u001b[0m\u001b[0mshape\u001b[0m\u001b[0;34m[\u001b[0m\u001b[0;36m0\u001b[0m\u001b[0;34m]\u001b[0m\u001b[0;34m,\u001b[0m\u001b[0mTheta1\u001b[0m\u001b[0;34m.\u001b[0m\u001b[0mshape\u001b[0m\u001b[0;34m[\u001b[0m\u001b[0;36m0\u001b[0m\u001b[0;34m]\u001b[0m\u001b[0;34m)\u001b[0m\u001b[0;34m)\u001b[0m\u001b[0;34m\u001b[0m\u001b[0m\n\u001b[1;32m     14\u001b[0m     \u001b[0ma1\u001b[0m \u001b[0;34m=\u001b[0m \u001b[0mnp\u001b[0m\u001b[0;34m.\u001b[0m\u001b[0mc_\u001b[0m\u001b[0;34m[\u001b[0m\u001b[0mnp\u001b[0m\u001b[0;34m.\u001b[0m\u001b[0mones\u001b[0m\u001b[0;34m(\u001b[0m\u001b[0mm\u001b[0m\u001b[0;34m)\u001b[0m\u001b[0;34m,\u001b[0m \u001b[0ma1\u001b[0m\u001b[0;34m]\u001b[0m \u001b[0;31m# add ones in a1 so a1.shape = 5000*26\u001b[0m\u001b[0;34m\u001b[0m\u001b[0m\n",
      "\u001b[0;31mValueError\u001b[0m: shapes (5,4) and (401,25) not aligned: 4 (dim 1) != 401 (dim 0)"
     ]
    }
   ],
   "source": [
    "checkNNGradients()"
   ]
  },
  {
   "cell_type": "code",
   "execution_count": null,
   "metadata": {},
   "outputs": [],
   "source": [
    "lamb=3.0\n",
    "debug_J,grad  = nnCostFunction(nn_params, input_layer_size,hidden_layer_size, num_labels, X, y, lamb);\n",
    "\n",
    "print('Cost at (fixed) debugging parameters (w/ lambda = {}):{} \\n(for lambda = 3, this value should be about 0.576051)\\n\\n'.format(lamb, debug_J))"
   ]
  },
  {
   "cell_type": "code",
   "execution_count": null,
   "metadata": {},
   "outputs": [],
   "source": [
    "lamb = 1;\n",
    "\n",
    "def reduced_cost_func(p):\n",
    "    return nnCostFunction(p,input_layer_size,hidden_layer_size,num_labels,\n",
    "                          X,y,lamb)\n",
    "\n",
    "results = minimize(reduced_cost_func,\n",
    "                   initial_nn_params,\n",
    "                   method=\"CG\",\n",
    "                   jac=True,\n",
    "                   options={'maxiter':50, \"disp\":True})\n"
   ]
  },
  {
   "cell_type": "code",
   "execution_count": null,
   "metadata": {},
   "outputs": [],
   "source": [
    "displayData(Theta1[:,1:]);\n"
   ]
  },
  {
   "cell_type": "code",
   "execution_count": null,
   "metadata": {},
   "outputs": [],
   "source": [
    "def predict(Theta1, Theta2, X):\n",
    "    X = np.c_[np.ones(m),X]\n",
    "    a1 = sigmoid(X.dot(Theta1.T))\n",
    "    k = a1.shape[0]\n",
    "    a2 = np.c_[np.ones(k),a1]\n",
    "    a3= sigmoid(a2.dot(Theta2.T))\n",
    "#     max_value=a3.max(axis=1)\n",
    "    index = a3.argmax(axis=1)\n",
    "    p=np.c_[index]\n",
    "    return p\n"
   ]
  },
  {
   "cell_type": "code",
   "execution_count": null,
   "metadata": {},
   "outputs": [],
   "source": [
    "pred = predict(Theta1, Theta2, X);\n",
    "print(np.mean((pred+1)==y)*100)"
   ]
  },
  {
   "cell_type": "code",
   "execution_count": null,
   "metadata": {},
   "outputs": [],
   "source": []
  },
  {
   "cell_type": "code",
   "execution_count": null,
   "metadata": {},
   "outputs": [],
   "source": [
    "m=5\n",
    "num_labels = 3;\n",
    "\n",
    "t = [i for i in range(1,m+1)]\n",
    "print(np.mod(t,num_labels).reshape(-1,1))"
   ]
  },
  {
   "cell_type": "code",
   "execution_count": null,
   "metadata": {},
   "outputs": [],
   "source": [
    "w=np.zeros((5,4))\n",
    "print(np.array([np.sin(w) for w in range(1,np.size(w)+1)]).reshape(w.shape[0],w.shape[1]))"
   ]
  },
  {
   "cell_type": "code",
   "execution_count": null,
   "metadata": {},
   "outputs": [],
   "source": [
    "\n",
    "a = np.random.rand(3,5)\n",
    "b= np.random.rand(5,3)\n",
    "print(a)\n",
    "print(b)\n",
    "\n",
    "\n",
    "# print(nn)"
   ]
  },
  {
   "cell_type": "code",
   "execution_count": null,
   "metadata": {},
   "outputs": [],
   "source": [
    "\n",
    "nn = np.concatenate((a.T.reshape(a.size,1), b.T.reshape(b.size,1)))\n",
    "x = nn [-15:].reshape(3,5).T\n",
    "\n",
    "print(x)"
   ]
  },
  {
   "cell_type": "code",
   "execution_count": null,
   "metadata": {},
   "outputs": [],
   "source": []
  },
  {
   "cell_type": "code",
   "execution_count": null,
   "metadata": {},
   "outputs": [],
   "source": []
  }
 ],
 "metadata": {
  "kernelspec": {
   "display_name": "Python 3",
   "language": "python",
   "name": "python3"
  },
  "language_info": {
   "codemirror_mode": {
    "name": "ipython",
    "version": 3
   },
   "file_extension": ".py",
   "mimetype": "text/x-python",
   "name": "python",
   "nbconvert_exporter": "python",
   "pygments_lexer": "ipython3",
   "version": "3.6.4"
  }
 },
 "nbformat": 4,
 "nbformat_minor": 2
}
