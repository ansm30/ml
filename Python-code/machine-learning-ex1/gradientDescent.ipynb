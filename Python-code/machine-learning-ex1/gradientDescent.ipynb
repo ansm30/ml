{
 "cells": [
  {
   "cell_type": "code",
   "execution_count": null,
   "metadata": {},
   "outputs": [],
   "source": [
    "def gradientDescent(X, y, theta, alpha, iterations):\n",
    "    m = len(y);\n",
    "    J_history = np.zeros((iterations, 1), int)\n",
    "    for itr_num in range(len(J_history)):\n",
    "        x = X.T[:, 1];\n",
    "        x = np.c_[x];\n",
    "        h = theta[0] + (theta[1] * x);\n",
    "\n",
    "\n",
    "        theta_zero = theta[0] - alpha * (1/m) * np.sum(h-y);\n",
    "        theta_one  = theta[1] - alpha * (1/m) * np.sum( np.multiply((h - y), x));\n",
    "\n",
    "        theta = np.array([theta_zero, theta_one]);\n",
    "        # ============================================================\n",
    "\n",
    "        #% Save the cost J in every iteration\n",
    "        J_history[itr_num] = computeCost(X.T, y, theta);\n",
    "\n",
    "    return [J_history, theta];"
   ]
  }
 ],
 "metadata": {
  "kernelspec": {
   "display_name": "Python 3",
   "language": "python",
   "name": "python3"
  },
  "language_info": {
   "codemirror_mode": {
    "name": "ipython",
    "version": 3
   },
   "file_extension": ".py",
   "mimetype": "text/x-python",
   "name": "python",
   "nbconvert_exporter": "python",
   "pygments_lexer": "ipython3",
   "version": "3.6.4"
  }
 },
 "nbformat": 4,
 "nbformat_minor": 2
}
