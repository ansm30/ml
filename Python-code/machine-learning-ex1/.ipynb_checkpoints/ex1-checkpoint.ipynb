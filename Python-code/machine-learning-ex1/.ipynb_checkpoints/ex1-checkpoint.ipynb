{
 "cells": [
  {
   "cell_type": "code",
   "execution_count": 1,
   "metadata": {},
   "outputs": [],
   "source": [
    "import numpy as np\n",
    "import matplotlib.pyplot as plt"
   ]
  },
  {
   "cell_type": "code",
   "execution_count": 2,
   "metadata": {},
   "outputs": [
    {
     "name": "stdout",
     "output_type": "stream",
     "text": [
      "Running warmUpExercise ... \n",
      "\n",
      "5x5 Identity Matrix: \n",
      "\n"
     ]
    },
    {
     "data": {
      "text/plain": [
       "array([[1, 0, 0, 0, 0],\n",
       "       [0, 1, 0, 0, 0],\n",
       "       [0, 0, 1, 0, 0],\n",
       "       [0, 0, 0, 1, 0],\n",
       "       [0, 0, 0, 0, 1]])"
      ]
     },
     "execution_count": 2,
     "metadata": {},
     "output_type": "execute_result"
    }
   ],
   "source": [
    "#==================== Part 1: Basic Function ====================\n",
    "\n",
    "print('Running warmUpExercise ... \\n');\n",
    "print('5x5 Identity Matrix: \\n');\n",
    "%run warmUpExercise.ipynb\n",
    "warmUpExercise()"
   ]
  },
  {
   "cell_type": "code",
   "execution_count": null,
   "metadata": {},
   "outputs": [],
   "source": []
  },
  {
   "cell_type": "code",
   "execution_count": 3,
   "metadata": {},
   "outputs": [],
   "source": [
    "data = np.loadtxt('ex1data1.txt', comments='#', delimiter=\",\");"
   ]
  },
  {
   "cell_type": "code",
   "execution_count": 4,
   "metadata": {},
   "outputs": [
    {
     "data": {
      "text/plain": [
       "(97, 1)"
      ]
     },
     "execution_count": 4,
     "metadata": {},
     "output_type": "execute_result"
    }
   ],
   "source": [
    "#print(data)\n",
    "\n",
    "X = data[:, 0]; y = data[:, 1];\n",
    "y = np.c_[y];\n",
    "m = len(y);\n",
    "#print(np.transpose(y))\n",
    "y.shape"
   ]
  },
  {
   "cell_type": "code",
   "execution_count": 5,
   "metadata": {},
   "outputs": [
    {
     "name": "stdout",
     "output_type": "stream",
     "text": [
      "\u001b[H\u001b[2J"
     ]
    }
   ],
   "source": [
    "clear all"
   ]
  },
  {
   "cell_type": "code",
   "execution_count": 6,
   "metadata": {},
   "outputs": [
    {
     "data": {
      "image/png": "[encoded data removed]",
      "text/plain": [
       "<matplotlib.figure.Figure at 0x7f82b5dc3b70>"
      ]
     },
     "metadata": {},
     "output_type": "display_data"
    }
   ],
   "source": [
    "#======================= Part 2: Plotting =======================\n",
    "#Plot data\n",
    "#plt.plot(X,y)\n",
    "\n",
    "plt.plot(X, y, '*');\n",
    "plt.ylabel('Profit in $10,000s');\n",
    "plt.xlabel('Population of City in 10,000s');\n",
    "plt.show();\n"
   ]
  },
  {
   "cell_type": "code",
   "execution_count": 7,
   "metadata": {},
   "outputs": [
    {
     "name": "stdout",
     "output_type": "stream",
     "text": [
      "[[ 1.      1.      1.      1.      1.      1.      1.      1.      1.\n",
      "   1.      1.      1.      1.      1.      1.      1.      1.      1.\n",
      "   1.      1.      1.      1.      1.      1.      1.      1.      1.\n",
      "   1.      1.      1.      1.      1.      1.      1.      1.      1.\n",
      "   1.      1.      1.      1.      1.      1.      1.      1.      1.\n",
      "   1.      1.      1.      1.      1.      1.      1.      1.      1.\n",
      "   1.      1.      1.      1.      1.      1.      1.      1.      1.\n",
      "   1.      1.      1.      1.      1.      1.      1.      1.      1.\n",
      "   1.      1.      1.      1.      1.      1.      1.      1.      1.\n",
      "   1.      1.      1.      1.      1.      1.      1.      1.      1.\n",
      "   1.      1.      1.      1.      1.      1.      1.      1.      1.\n",
      "   1.      1.      1.      1.      1.      1.      1.      1.      1.\n",
      "   1.      1.      1.      1.      1.      1.      1.      1.      1.\n",
      "   1.      1.      1.      1.      1.      1.      1.      1.      1.\n",
      "   1.      1.      1.      1.      1.      1.      1.      1.      1.\n",
      "   1.      1.      1.      1.      1.      1.      1.      1.      1.\n",
      "   1.      1.      1.      1.      1.      1.      1.      1.      1.\n",
      "   1.      1.      1.      1.      1.      1.      1.      1.      1.\n",
      "   1.      1.      1.      1.      1.      1.      1.      1.      1.\n",
      "   1.      1.      1.      1.      1.      1.      1.      1.      1.\n",
      "   1.      1.      1.      1.      1.      1.      1.      1.      1.\n",
      "   1.      1.      1.      1.      1.    ]\n",
      " [ 1.      1.      1.      1.      1.      1.      1.      1.      1.\n",
      "   1.      1.      1.      1.      1.      1.      1.      1.      1.\n",
      "   1.      1.      1.      1.      1.      1.      1.      1.      1.\n",
      "   1.      1.      1.      1.      1.      1.      1.      1.      1.\n",
      "   1.      1.      1.      1.      1.      1.      1.      1.      1.\n",
      "   1.      1.      1.      1.      1.      1.      1.      1.      1.\n",
      "   1.      1.      1.      1.      1.      1.      1.      1.      1.\n",
      "   1.      1.      1.      1.      1.      1.      1.      1.      1.\n",
      "   1.      1.      1.      1.      1.      1.      1.      1.      1.\n",
      "   1.      1.      1.      1.      1.      1.      1.      1.      1.\n",
      "   1.      1.      1.      1.      1.      1.      1.      6.1101  5.5277\n",
      "   8.5186  7.0032  5.8598  8.3829  7.4764  8.5781  6.4862  5.0546  5.7107\n",
      "  14.164   5.734   8.4084  5.6407  5.3794  6.3654  5.1301  6.4296  7.0708\n",
      "   6.1891 20.27    5.4901  6.3261  5.5649 18.945  12.828  10.957  13.176\n",
      "  22.203   5.2524  6.5894  9.2482  5.8918  8.2111  7.9334  8.0959  5.6063\n",
      "  12.836   6.3534  5.4069  6.8825 11.708   5.7737  7.8247  7.0931  5.0702\n",
      "   5.8014 11.7     5.5416  7.5402  5.3077  7.4239  7.6031  6.3328  6.3589\n",
      "   6.2742  5.6397  9.3102  9.4536  8.8254  5.1793 21.279  14.908  18.959\n",
      "   7.2182  8.2951 10.236   5.4994 20.341  10.136   7.3345  6.0062  7.2259\n",
      "   5.0269  6.5479  7.5386  5.0365 10.274   5.1077  5.7292  5.1884  6.3557\n",
      "   9.7687  6.5159  8.5172  9.1802  6.002   5.5204  5.0594  5.7077  7.6366\n",
      "   5.8707  5.3054  8.2934 13.394   5.4369]]\n"
     ]
    },
    {
     "ename": "ValueError",
     "evalue": "operands could not be broadcast together with shapes (194,1) (97,1) ",
     "output_type": "error",
     "traceback": [
      "\u001b[0;31m---------------------------------------------------------------------------\u001b[0m",
      "\u001b[0;31mValueError\u001b[0m                                Traceback (most recent call last)",
      "\u001b[0;32m<ipython-input-7-d1a3ab937e97>\u001b[0m in \u001b[0;36m<module>\u001b[0;34m()\u001b[0m\n\u001b[1;32m      9\u001b[0m \u001b[0;34m\u001b[0m\u001b[0m\n\u001b[1;32m     10\u001b[0m \u001b[0mget_ipython\u001b[0m\u001b[0;34m(\u001b[0m\u001b[0;34m)\u001b[0m\u001b[0;34m.\u001b[0m\u001b[0mrun_line_magic\u001b[0m\u001b[0;34m(\u001b[0m\u001b[0;34m'run'\u001b[0m\u001b[0;34m,\u001b[0m \u001b[0;34m'computeCost.ipynb'\u001b[0m\u001b[0;34m)\u001b[0m\u001b[0;34m\u001b[0m\u001b[0m\n\u001b[0;32m---> 11\u001b[0;31m \u001b[0mJ\u001b[0m \u001b[0;34m=\u001b[0m \u001b[0mcomputeCost\u001b[0m\u001b[0;34m(\u001b[0m\u001b[0mX\u001b[0m\u001b[0;34m.\u001b[0m\u001b[0mT\u001b[0m\u001b[0;34m,\u001b[0m \u001b[0my\u001b[0m\u001b[0;34m,\u001b[0m \u001b[0mtheta\u001b[0m\u001b[0;34m)\u001b[0m\u001b[0;34m;\u001b[0m\u001b[0;34m\u001b[0m\u001b[0m\n\u001b[0m\u001b[1;32m     12\u001b[0m \u001b[0;34m\u001b[0m\u001b[0m\n\u001b[1;32m     13\u001b[0m \u001b[0mprint\u001b[0m\u001b[0;34m(\u001b[0m\u001b[0;34m'With theta = [0 ; 0]\\nCost computed =\\n'\u001b[0m\u001b[0;34m,\u001b[0m \u001b[0mJ\u001b[0m\u001b[0;34m)\u001b[0m\u001b[0;34m;\u001b[0m\u001b[0;34m\u001b[0m\u001b[0m\n",
      "\u001b[0;32m<ipython-input-7-b98ed0ba0805>\u001b[0m in \u001b[0;36mcomputeCost\u001b[0;34m(X, y, theta)\u001b[0m\n\u001b[1;32m      4\u001b[0m     \u001b[0mm\u001b[0m \u001b[0;34m=\u001b[0m \u001b[0mlen\u001b[0m\u001b[0;34m(\u001b[0m\u001b[0my\u001b[0m\u001b[0;34m)\u001b[0m\u001b[0;34m;\u001b[0m\u001b[0;34m\u001b[0m\u001b[0m\n\u001b[1;32m      5\u001b[0m     \u001b[0mpredictions\u001b[0m \u001b[0;34m=\u001b[0m \u001b[0mnp\u001b[0m\u001b[0;34m.\u001b[0m\u001b[0mdot\u001b[0m\u001b[0;34m(\u001b[0m\u001b[0mX\u001b[0m\u001b[0;34m,\u001b[0m \u001b[0mtheta\u001b[0m\u001b[0;34m)\u001b[0m\u001b[0;34m;\u001b[0m \u001b[0;31m#dot\u001b[0m\u001b[0;34m\u001b[0m\u001b[0m\n\u001b[0;32m----> 6\u001b[0;31m     \u001b[0merrors\u001b[0m \u001b[0;34m=\u001b[0m \u001b[0mnp\u001b[0m\u001b[0;34m.\u001b[0m\u001b[0msquare\u001b[0m\u001b[0;34m(\u001b[0m\u001b[0mpredictions\u001b[0m \u001b[0;34m-\u001b[0m \u001b[0my\u001b[0m\u001b[0;34m)\u001b[0m\u001b[0;34m;\u001b[0m\u001b[0;34m\u001b[0m\u001b[0m\n\u001b[0m\u001b[1;32m      7\u001b[0m     \u001b[0mJ\u001b[0m \u001b[0;34m=\u001b[0m \u001b[0;34m(\u001b[0m\u001b[0;36m1\u001b[0m\u001b[0;34m/\u001b[0m\u001b[0;34m(\u001b[0m\u001b[0;36m2\u001b[0m\u001b[0;34m*\u001b[0m\u001b[0mm\u001b[0m\u001b[0;34m)\u001b[0m\u001b[0;34m)\u001b[0m \u001b[0;34m*\u001b[0m \u001b[0mnp\u001b[0m\u001b[0;34m.\u001b[0m\u001b[0msum\u001b[0m\u001b[0;34m(\u001b[0m\u001b[0merrors\u001b[0m\u001b[0;34m)\u001b[0m\u001b[0;34m;\u001b[0m\u001b[0;34m\u001b[0m\u001b[0m\n\u001b[1;32m      8\u001b[0m \u001b[0;34m\u001b[0m\u001b[0m\n",
      "\u001b[0;31mValueError\u001b[0m: operands could not be broadcast together with shapes (194,1) (97,1) "
     ]
    }
   ],
   "source": [
    "#=================== Part 3: Cost and Gradient descent ===================\n",
    "once_array =  [np.ones(m, dtype=int)];\n",
    "X = np.concatenate((once_array, [data[:,0]]));\n",
    "theta = np.zeros((2, 1), int); # initialize fitting parameters\n",
    "\n",
    "#X = np.c_[np.ones(X.shape),X]\n",
    "\n",
    "print(X)\n",
    "\n",
    "%run computeCost.ipynb\n",
    "J = computeCost(X.T, y, theta);\n",
    "\n",
    "print('With theta = [0 ; 0]\\nCost computed =\\n', J);\n",
    "print('Expected cost value (approx) 32.07\\n');\n",
    "\n",
    "theta = np.zeros((2, 1), int);\n",
    "\n",
    "J = computeCost(X.T, y, np.array([[-1], [2]]));\n",
    "print('\\nWith theta = [-1 ; 2]\\nCost computed = \\n', J);\n",
    "print('Expected cost value (approx) 54.24\\n');\n",
    "\n"
   ]
  },
  {
   "cell_type": "code",
   "execution_count": null,
   "metadata": {},
   "outputs": [],
   "source": [
    "# Some gradient descent settings\n",
    "iterations = 1500;\n",
    "alpha = 0.01;\n",
    "print('\\nRunning Gradient Descent ...\\n')\n",
    "%run gradientDescent.ipynb\n",
    "[J_history, theta] = gradientDescent(X, y, theta, alpha, iterations);\n",
    "\n",
    "print('Theta found by gradient descent:\\n');\n",
    "print('%f\\n', theta);\n",
    "print('Expected theta values (approx)\\n');\n",
    "print(' -3.6303\\n  1.1664\\n\\n');\n",
    "\n",
    "    "
   ]
  },
  {
   "cell_type": "code",
   "execution_count": null,
   "metadata": {},
   "outputs": [],
   "source": [
    "\n",
    "\n",
    "X.T.shape\n",
    "    "
   ]
  },
  {
   "cell_type": "code",
   "execution_count": null,
   "metadata": {},
   "outputs": [],
   "source": [
    "#plot(X(:,2), X*theta, '-')\n",
    "original_x = X.T[:, 1];\n",
    "original_x = np.c_[original_x]; #why this?\n",
    "\n",
    "plt.plot(original_x,  X.T.dot(theta), '-', label=\"Linear regression\" );\n",
    "plt.plot(original_x, y, '*', label=\"Training data\");\n",
    "plt.legend(bbox_to_anchor=(1.05, 1), loc=2, borderaxespad=0.)\n",
    "\n",
    "plt.ylabel('Value');\n",
    "plt.xlabel('Time');\n",
    "plt.show()\n"
   ]
  },
  {
   "cell_type": "code",
   "execution_count": null,
   "metadata": {},
   "outputs": [],
   "source": []
  },
  {
   "cell_type": "code",
   "execution_count": null,
   "metadata": {},
   "outputs": [],
   "source": []
  },
  {
   "cell_type": "code",
   "execution_count": null,
   "metadata": {},
   "outputs": [],
   "source": []
  },
  {
   "cell_type": "code",
   "execution_count": null,
   "metadata": {},
   "outputs": [],
   "source": []
  }
 ],
 "metadata": {
  "kernelspec": {
   "display_name": "Python 3",
   "language": "python",
   "name": "python3"
  },
  "language_info": {
   "codemirror_mode": {
    "name": "ipython",
    "version": 3
   },
   "file_extension": ".py",
   "mimetype": "text/x-python",
   "name": "python",
   "nbconvert_exporter": "python",
   "pygments_lexer": "ipython3",
   "version": "3.6.4"
  }
 },
 "nbformat": 4,
 "nbformat_minor": 2
}
