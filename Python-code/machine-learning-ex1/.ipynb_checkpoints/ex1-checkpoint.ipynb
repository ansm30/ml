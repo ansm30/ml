{
 "cells": [
  {
   "cell_type": "code",
   "execution_count": 537,
   "metadata": {},
   "outputs": [],
   "source": [
    "import numpy as np\n",
    "import matplotlib.pyplot as plt"
   ]
  },
  {
   "cell_type": "code",
   "execution_count": 538,
   "metadata": {},
   "outputs": [
    {
     "name": "stdout",
     "output_type": "stream",
     "text": [
      "Running warmUpExercise ... \n",
      "\n",
      "5x5 Identity Matrix: \n",
      "\n"
     ]
    },
    {
     "data": {
      "text/plain": [
       "array([[1, 0, 0, 0, 0],\n",
       "       [0, 1, 0, 0, 0],\n",
       "       [0, 0, 1, 0, 0],\n",
       "       [0, 0, 0, 1, 0],\n",
       "       [0, 0, 0, 0, 1]])"
      ]
     },
     "execution_count": 538,
     "metadata": {},
     "output_type": "execute_result"
    }
   ],
   "source": [
    "#==================== Part 1: Basic Function ====================\n",
    "\n",
    "print('Running warmUpExercise ... \\n');\n",
    "print('5x5 Identity Matrix: \\n');\n",
    "%run warmUpExercise.ipynb\n",
    "warmUpExercise()"
   ]
  },
  {
   "cell_type": "code",
   "execution_count": 539,
   "metadata": {},
   "outputs": [],
   "source": [
    "data = np.loadtxt('ex1data1.txt', comments='#', delimiter=\",\");"
   ]
  },
  {
   "cell_type": "code",
   "execution_count": 540,
   "metadata": {},
   "outputs": [
    {
     "data": {
      "text/plain": [
       "(97, 1)"
      ]
     },
     "execution_count": 540,
     "metadata": {},
     "output_type": "execute_result"
    }
   ],
   "source": [
    "#print(data)\n",
    "\n",
    "X = data[:, 0]; y = data[:, 1];\n",
    "y = np.c_[y];\n",
    "m = len(y);\n",
    "#print(np.transpose(y))\n",
    "y.shape"
   ]
  },
  {
   "cell_type": "code",
   "execution_count": 541,
   "metadata": {},
   "outputs": [
    {
     "name": "stdout",
     "output_type": "stream",
     "text": [
      "\u001b[H\u001b[2J"
     ]
    }
   ],
   "source": [
    "clear all"
   ]
  },
  {
   "cell_type": "code",
   "execution_count": 542,
   "metadata": {},
   "outputs": [
    {
     "data": {
      "image/png": "[encoded data removed]",
      "text/plain": [
       "<matplotlib.figure.Figure at 0x7fc444b10358>"
      ]
     },
     "metadata": {},
     "output_type": "display_data"
    }
   ],
   "source": [
    "#======================= Part 2: Plotting =======================\n",
    "#Plot data\n",
    "#plt.plot(X,y)\n",
    "\n",
    "plt.plot(X, y, '*');\n",
    "plt.ylabel('Profit in $10,000s');\n",
    "plt.xlabel('Population of City in 10,000s');\n",
    "plt.show();\n"
   ]
  },
  {
   "cell_type": "code",
   "execution_count": 543,
   "metadata": {},
   "outputs": [
    {
     "name": "stdout",
     "output_type": "stream",
     "text": [
      "With theta = [0 ; 0]\n",
      "Cost computed =\n",
      " 32.072733877455676\n",
      "Expected cost value (approx) 32.07\n",
      "\n",
      "\n",
      "With theta = [-1 ; 2]\n",
      "Cost computed = \n",
      " 54.24245508201238\n",
      "Expected cost value (approx) 54.24\n",
      "\n"
     ]
    }
   ],
   "source": [
    "#=================== Part 3: Cost and Gradient descent ===================\n",
    "once_array =  [np.ones(m, dtype=int)];\n",
    "X = np.concatenate((once_array, [data[:,0]]));\n",
    "theta = np.zeros((2, 1), int); # initialize fitting parameters\n",
    "\n",
    "\n",
    "%run computeCost.ipynb\n",
    "J = computeCost(X.T, y, theta);\n",
    "\n",
    "print('With theta = [0 ; 0]\\nCost computed =\\n', J);\n",
    "print('Expected cost value (approx) 32.07\\n');\n",
    "\n",
    "theta = np.zeros((2, 1), int);\n",
    "\n",
    "J = computeCost(X.T, y, np.array([[-1], [2]]));\n",
    "print('\\nWith theta = [-1 ; 2]\\nCost computed = \\n', J);\n",
    "print('Expected cost value (approx) 54.24\\n');\n",
    "\n"
   ]
  },
  {
   "cell_type": "code",
   "execution_count": 544,
   "metadata": {},
   "outputs": [
    {
     "name": "stdout",
     "output_type": "stream",
     "text": [
      "\n",
      "Running Gradient Descent ...\n",
      "\n",
      "Theta found by gradient descent:\n",
      "\n",
      "%f\n",
      " [[-3.63029144]\n",
      " [ 1.16636235]]\n",
      "Expected theta values (approx)\n",
      "\n",
      " -3.6303\n",
      "  1.1664\n",
      "\n",
      "\n"
     ]
    }
   ],
   "source": [
    "# Some gradient descent settings\n",
    "iterations = 1500;\n",
    "alpha = 0.01;\n",
    "print('\\nRunning Gradient Descent ...\\n')\n",
    "%run gradientDescent.ipynb\n",
    "[J_history, theta] = gradientDescent(X, y, theta, alpha, iterations);\n",
    "\n",
    "print('Theta found by gradient descent:\\n');\n",
    "print('%f\\n', theta);\n",
    "print('Expected theta values (approx)\\n');\n",
    "print(' -3.6303\\n  1.1664\\n\\n');\n",
    "\n",
    "    "
   ]
  },
  {
   "cell_type": "code",
   "execution_count": 545,
   "metadata": {},
   "outputs": [
    {
     "data": {
      "text/plain": [
       "(97, 2)"
      ]
     },
     "execution_count": 545,
     "metadata": {},
     "output_type": "execute_result"
    }
   ],
   "source": [
    "\n",
    "\n",
    "X.T.shape\n",
    "    "
   ]
  },
  {
   "cell_type": "code",
   "execution_count": 546,
   "metadata": {},
   "outputs": [
    {
     "data": {
      "image/png": "[encoded data removed]",
      "text/plain": [
       "<matplotlib.figure.Figure at 0x7fc43ef52240>"
      ]
     },
     "metadata": {},
     "output_type": "display_data"
    }
   ],
   "source": [
    "#plot(X(:,2), X*theta, '-')\n",
    "original_x = X.T[:, 1];\n",
    "original_x = np.c_[original_x]; #why this?\n",
    "\n",
    "plt.plot(original_x,  X.T.dot(theta), '-', label=\"Linear regression\" );\n",
    "plt.plot(original_x, y, '*', label=\"Training data\");\n",
    "plt.legend(bbox_to_anchor=(1.05, 1), loc=2, borderaxespad=0.)\n",
    "\n",
    "plt.ylabel('Value');\n",
    "plt.xlabel('Time');\n",
    "plt.show()\n"
   ]
  },
  {
   "cell_type": "code",
   "execution_count": null,
   "metadata": {},
   "outputs": [],
   "source": []
  },
  {
   "cell_type": "code",
   "execution_count": null,
   "metadata": {},
   "outputs": [],
   "source": []
  },
  {
   "cell_type": "code",
   "execution_count": null,
   "metadata": {},
   "outputs": [],
   "source": []
  },
  {
   "cell_type": "code",
   "execution_count": null,
   "metadata": {},
   "outputs": [],
   "source": []
  }
 ],
 "metadata": {
  "kernelspec": {
   "display_name": "Python 3",
   "language": "python",
   "name": "python3"
  },
  "language_info": {
   "codemirror_mode": {
    "name": "ipython",
    "version": 3
   },
   "file_extension": ".py",
   "mimetype": "text/x-python",
   "name": "python",
   "nbconvert_exporter": "python",
   "pygments_lexer": "ipython3",
   "version": "3.6.4"
  }
 },
 "nbformat": 4,
 "nbformat_minor": 2
}
