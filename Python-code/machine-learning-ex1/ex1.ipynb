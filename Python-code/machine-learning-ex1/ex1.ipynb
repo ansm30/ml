{
 "cells": [
  {
   "cell_type": "code",
   "execution_count": 134,
   "metadata": {},
   "outputs": [],
   "source": [
    "import numpy as np\n",
    "import matplotlib.pyplot as plt"
   ]
  },
  {
   "cell_type": "code",
   "execution_count": 135,
   "metadata": {},
   "outputs": [
    {
     "name": "stdout",
     "output_type": "stream",
     "text": [
      "Running warmUpExercise ... \n",
      "\n",
      "5x5 Identity Matrix: \n",
      "\n"
     ]
    },
    {
     "data": {
      "text/plain": [
       "array([[1, 0, 0, 0, 0],\n",
       "       [0, 1, 0, 0, 0],\n",
       "       [0, 0, 1, 0, 0],\n",
       "       [0, 0, 0, 1, 0],\n",
       "       [0, 0, 0, 0, 1]])"
      ]
     },
     "execution_count": 135,
     "metadata": {},
     "output_type": "execute_result"
    }
   ],
   "source": [
    "#==================== Part 1: Basic Function ====================\n",
    "\n",
    "print('Running warmUpExercise ... \\n');\n",
    "print('5x5 Identity Matrix: \\n');\n",
    "%run warmUpExercise.ipynb\n",
    "warmUpExercise()"
   ]
  },
  {
   "cell_type": "code",
   "execution_count": 136,
   "metadata": {},
   "outputs": [],
   "source": [
    "data = np.loadtxt('ex1data1.txt', comments='#', delimiter=\",\");"
   ]
  },
  {
   "cell_type": "code",
   "execution_count": 137,
   "metadata": {},
   "outputs": [
    {
     "data": {
      "text/plain": [
       "(97, 1)"
      ]
     },
     "execution_count": 137,
     "metadata": {},
     "output_type": "execute_result"
    }
   ],
   "source": [
    "#print(data)\n",
    "\n",
    "X = data[:, 0]; y = data[:, 1];\n",
    "y = np.c_[y];\n",
    "m = len(y);\n",
    "#print(np.transpose(y))\n",
    "y.shape"
   ]
  },
  {
   "cell_type": "code",
   "execution_count": 138,
   "metadata": {},
   "outputs": [
    {
     "name": "stdout",
     "output_type": "stream",
     "text": [
      "\u001b[H\u001b[2J"
     ]
    }
   ],
   "source": [
    "clear all"
   ]
  },
  {
   "cell_type": "code",
   "execution_count": 139,
   "metadata": {},
   "outputs": [
    {
     "data": {
      "image/png": "[encoded data removed]",
      "text/plain": [
       "<matplotlib.figure.Figure at 0x7f6f20ccb6a0>"
      ]
     },
     "metadata": {},
     "output_type": "display_data"
    }
   ],
   "source": [
    "#======================= Part 2: Plotting =======================\n",
    "#Plot data\n",
    "#plt.plot(X,y)\n",
    "\n",
    "plt.plot(X, y, 'rx', 'MarkerSize', 10);\n",
    "plt.ylabel('Profit in $10,000s');\n",
    "plt.xlabel('Population of City in 10,000s');\n",
    "plt.show();\n"
   ]
  },
  {
   "cell_type": "code",
   "execution_count": 140,
   "metadata": {},
   "outputs": [
    {
     "name": "stdout",
     "output_type": "stream",
     "text": [
      "-------------------In computeCost----------------------\n",
      "With theta = [0 ; 0]\n",
      "Cost computed =\n",
      " 32.072733877455676\n",
      "Expected cost value (approx) 32.07\n",
      "\n",
      "-------------------In computeCost----------------------\n",
      "\n",
      "With theta = [-1 ; 2]\n",
      "Cost computed = \n",
      " 54.24245508201238\n",
      "Expected cost value (approx) 54.24\n",
      "\n",
      "Program paused. Press enter to continue.\n",
      "\n"
     ]
    }
   ],
   "source": [
    "#=================== Part 3: Cost and Gradient descent ===================\n",
    "once_array =  [np.ones(m, dtype=int)];\n",
    "X = np.concatenate((once_array, [data[:,0]]));\n",
    "theta = np.zeros((2, 1), int); # initialize fitting parameters\n",
    "\n",
    "\n",
    "%run computeCost.ipynb\n",
    "J = computeCost(X, y, theta);\n",
    "\n",
    "print('With theta = [0 ; 0]\\nCost computed =\\n', J);\n",
    "print('Expected cost value (approx) 32.07\\n');\n",
    "\n",
    "\n",
    "J = computeCost(X, y, [[-1], [2]]);\n",
    "print('\\nWith theta = [-1 ; 2]\\nCost computed = \\n', J);\n",
    "print('Expected cost value (approx) 54.24\\n');\n",
    "\n",
    "print('Program paused. Press enter to continue.\\n');\n",
    "\n",
    "\n",
    "\n",
    "# Some gradient descent settings\n",
    "iterations = 1500;\n",
    "alpha = 0.01;\n",
    "\n",
    "#print('\\nTesting the cost function ...\\n')\n",
    "# compute and display initial cost\n",
    "#J = computeCost(X, y, theta);\n",
    "\n",
    "\n"
   ]
  },
  {
   "cell_type": "code",
   "execution_count": null,
   "metadata": {},
   "outputs": [],
   "source": [
    "\n",
    "    "
   ]
  },
  {
   "cell_type": "code",
   "execution_count": null,
   "metadata": {},
   "outputs": [],
   "source": [
    "\n",
    "\n"
   ]
  },
  {
   "cell_type": "code",
   "execution_count": null,
   "metadata": {},
   "outputs": [],
   "source": []
  },
  {
   "cell_type": "code",
   "execution_count": null,
   "metadata": {},
   "outputs": [],
   "source": []
  }
 ],
 "metadata": {
  "kernelspec": {
   "display_name": "Python 3",
   "language": "python",
   "name": "python3"
  },
  "language_info": {
   "codemirror_mode": {
    "name": "ipython",
    "version": 3
   },
   "file_extension": ".py",
   "mimetype": "text/x-python",
   "name": "python",
   "nbconvert_exporter": "python",
   "pygments_lexer": "ipython3",
   "version": "3.6.4"
  }
 },
 "nbformat": 4,
 "nbformat_minor": 2
}
