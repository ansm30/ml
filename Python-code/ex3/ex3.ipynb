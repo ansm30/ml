{
 "cells": [
  {
   "cell_type": "code",
   "execution_count": 53,
   "metadata": {},
   "outputs": [],
   "source": [
    "import numpy as np\n",
    "import matplotlib.pyplot as plt\n",
    "from scipy.optimize import minimize\n",
    "import multiprocessing as mp\n",
    "import pandas as pd\n",
    "import scipy.io\n"
   ]
  },
  {
   "cell_type": "code",
   "execution_count": 54,
   "metadata": {},
   "outputs": [
    {
     "name": "stdout",
     "output_type": "stream",
     "text": [
      "Loading and Visualizing Data ...\n",
      "\n",
      "5000\n",
      "[4385 2454 2303 ... 1120 2149 2448]\n",
      "[[[0. 0. 0. ... 0. 0. 0.]]\n",
      "\n",
      " [[0. 0. 0. ... 0. 0. 0.]]\n",
      "\n",
      " [[0. 0. 0. ... 0. 0. 0.]]\n",
      "\n",
      " ...\n",
      "\n",
      " [[0. 0. 0. ... 0. 0. 0.]]\n",
      "\n",
      " [[0. 0. 0. ... 0. 0. 0.]]\n",
      "\n",
      " [[0. 0. 0. ... 0. 0. 0.]]]\n"
     ]
    }
   ],
   "source": [
    "# Setup the parameters you will use for this part of the exercise\n",
    "input_layer_size  = 400  # 20x20 Input Images of Digits\n",
    "num_labels = 10          # 10 labels, from 1 to 10\n",
    "                          # (note that we have mapped \"0\" to label 10)\n",
    "\n",
    "# =========== Part 1: Loading and Visualizing Data =============\n",
    "#  We start the exercise by first loading and visualizing the dataset.\n",
    "#  You will be working with a dataset that contains handwritten digits.\n",
    "\n",
    "# Load Training Data\n",
    "print('Loading and Visualizing Data ...\\n')\n",
    "mat_contents = sio.loadmat('ex3data1.mat')\n",
    "#print(mat_contents)\n",
    "X = mat_contents['X']\n",
    "y = mat_contents['y']\n",
    "m = len(y);\n",
    "print(m)\n",
    "\n",
    "# Randomly select 100 data points to display\n",
    "rand_indices = np.random.permutation(m)\n",
    "print(rand_indices)\n",
    "rand_indices = rand_indices.reshape(-1, 1)\n",
    "sel = X[rand_indices[1:100, :]]\n",
    "print(sel)\n",
    "#displayData(sel);"
   ]
  },
  {
   "cell_type": "code",
   "execution_count": 55,
   "metadata": {},
   "outputs": [],
   "source": [
    "# def displayData(X, example_width = None):\n",
    "# #     if ~exist('example_width', 'var') || isempty(example_width) \n",
    "# #         example_width = round(sqrt(size(X, 2)));\n",
    "# #     end\n",
    "#     if (example_width == None):\n",
    "#         example_width = round(np.sqrt((X.shape[1])))\n",
    "#         print(example_width)\n",
    "#     plt.colormaps()\n",
    "    \n",
    "# #     from colormap import Colormap\n",
    "# #     c = Colormap()\n",
    "# #     mycmap = c.cmap_linear('red', 'white', 'green(w3c)')\n",
    "# #     c.test_colormap(mycmap)\n",
    "#     # Compute rows, cols\n",
    "#     m, n = X.shape;\n",
    "#     example_height = (n / example_width);\n",
    "    \n",
    "    \n",
    "#     display_rows = np.floor(np.sqrt(m));\n",
    "#     display_cols = np.ceil(m / display_rows);\n",
    "\n",
    "#     # Between images padding\n",
    "#     pad = 1;\n",
    "\n",
    "#     # Setup blank display\n",
    "#     #print (pad + (np.dot(display_cols , (example_width + pad))))\n",
    "#     display_array = - np.ones(pad + np.dot(display_rows, (example_height + pad)), pad + np.dot(display_cols , (example_width + pad)))\n",
    "#     print(display_array)\n",
    "    \n",
    "    \n",
    "    \n",
    "def displayData(X):\n",
    "    fig, ax = plt.subplots(10,10,sharex=True,sharey=True)\n",
    "    img_num = 0\n",
    "    for i in range(10):\n",
    "        for j in range(10):\n",
    "            # Convert column vector into 20x20 pixel matrix\n",
    "            # You have to transpose to display correctly\n",
    "            img = X[img_num,:].reshape(20,20).T\n",
    "            ax[i][j].imshow(img,cmap='gray')\n",
    "            img_num += 1\n",
    "\n",
    "    return (fig, ax)\n",
    "    \n",
    "#displayData(X)  \n",
    "  \n",
    "    \n",
    "        \n",
    "    \n",
    "\n"
   ]
  },
  {
   "cell_type": "code",
   "execution_count": 56,
   "metadata": {},
   "outputs": [],
   "source": [
    "def sigmoid(z):\n",
    "    return 1 / (1 + np.exp(-z));"
   ]
  },
  {
   "cell_type": "code",
   "execution_count": 94,
   "metadata": {},
   "outputs": [
    {
     "name": "stdout",
     "output_type": "stream",
     "text": [
      "\n",
      "Testing lrCostFunction() with regularization\n",
      "(4, 1)\n",
      "(1, 1)\n",
      "[[ 0]\n",
      " [-1]\n",
      " [ 1]\n",
      " [ 2]]\n"
     ]
    }
   ],
   "source": [
    "print('\\nTesting lrCostFunction() with regularization')\n",
    "theta_t = np.array([[-2], [-1], [1], [2]])\n",
    "print(theta_t.shape)\n",
    "X_t = np.c_[np.ones(5).reshape(-1, 1), np.arange(1, 16).reshape(5,3)]\n",
    "y_t = (np.array([[1], [0], [1], [0], [1]]) >= 0.5) * 1\n",
    "lambda_t = 3\n",
    "\n",
    "def lrCostFunction(theta, X, y, lambda_t):\n",
    "    m = len(y)\n",
    "    h = sigmoid(X.dot(theta))\n",
    "    #theta1 = [0 ; theta(2:end, :)];\n",
    "    #print(theta[1:5, :].shape)\n",
    "    a=np.c_[np.array([0])]\n",
    "    print(a.shape)\n",
    "    theta1 = np.concatenate((a,theta[1:5, :]))\n",
    "    print(theta1)\n",
    "    \n",
    "#     logminush = np.log(1 - (h))\n",
    "#     logh = np.log(h)\n",
    "#     J = np.sum((-y.T.dot(logh)) - ((1 - y).T.dot(logminush)))/m\n",
    "#     reg = (lambda_t/(2*m)) * np.sum(np.square(theta))\n",
    "    \n",
    "#     grad = (1 / m) * X.T.dot((h - y)) \n",
    "    \n",
    "#     return J + reg, grad.flatten() \n",
    "lrCostFunction(theta_t, X_t, y_t, lambda_t)\n",
    "#J, grad = lrCostFunction(theta_t, X_t, y_t, lambda_t)\n",
    "#print('\\nCost: \\n', J);\n",
    "# #print('Expected cost: 2.534819\\n');\n",
    "# print('Gradients:\\n');\n",
    "# print('\\n', grad);\n",
    "# print('Expected gradients:\\n');\n",
    "# print('0.146561\\n -0.548558\\n 0.724722\\n 1.398003\\n');\n"
   ]
  },
  {
   "cell_type": "code",
   "execution_count": null,
   "metadata": {},
   "outputs": [],
   "source": [
    "\n"
   ]
  },
  {
   "cell_type": "code",
   "execution_count": null,
   "metadata": {},
   "outputs": [],
   "source": []
  }
 ],
 "metadata": {
  "kernelspec": {
   "display_name": "Python 3",
   "language": "python",
   "name": "python3"
  },
  "language_info": {
   "codemirror_mode": {
    "name": "ipython",
    "version": 3
   },
   "file_extension": ".py",
   "mimetype": "text/x-python",
   "name": "python",
   "nbconvert_exporter": "python",
   "pygments_lexer": "ipython3",
   "version": "3.6.4"
  }
 },
 "nbformat": 4,
 "nbformat_minor": 2
}
