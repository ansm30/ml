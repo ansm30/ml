{
 "cells": [
  {
   "cell_type": "code",
   "execution_count": 936,
   "metadata": {},
   "outputs": [],
   "source": [
    "import numpy as np\n",
    "import matplotlib.pyplot as plt\n"
   ]
  },
  {
   "cell_type": "code",
   "execution_count": 937,
   "metadata": {},
   "outputs": [
    {
     "name": "stdout",
     "output_type": "stream",
     "text": [
      "['Plotting data with + indicating (y = 1) examples and o indicating (y = 0) examples.\\n']\n"
     ]
    },
    {
     "data": {
      "image/png": "[encoded data removed]",
      "text/plain": [
       "<matplotlib.figure.Figure at 0x7ff2ce22ab00>"
      ]
     },
     "metadata": {},
     "output_type": "display_data"
    }
   ],
   "source": [
    "data = np.loadtxt('ex2data1.txt', comments='#', delimiter=\",\");\n",
    "#print(data);\n",
    "X = data[:, [0, 1]];\n",
    "y = data[:, 2];\n",
    "y = y.reshape(y.size, 1);\n",
    "print(['Plotting data with + indicating (y = 1) examples and o indicating (y = 0) examples.\\n']);\n",
    "\n",
    "def plotData(X, y, label1='Exam 1 Score', label2='Exam 2 Score', legend1=\"No Admitted\", legend2=\"Admitted\"):\n",
    "    pos, vals = np.nonzero(y==1);\n",
    "    neg, vals = np.nonzero(y==0);\n",
    "    plt.plot(X[pos, 0], X[pos, 1], '*', label=legend1 );\n",
    "    plt.plot(X[neg, 0], X[neg, 1], 'o', label=legend2);\n",
    "    plt.legend(bbox_to_anchor=(1.05, 1), loc=2, borderaxespad=0.)\n",
    "\n",
    "    plt.ylabel(label1);\n",
    "    plt.xlabel(label2);\n",
    "    plt.show();\n",
    "\n",
    "plotData(X, y);\n",
    "\n"
   ]
  },
  {
   "cell_type": "code",
   "execution_count": 938,
   "metadata": {},
   "outputs": [],
   "source": [
    "m, n = X.shape;\n",
    "X = np.c_[np.ones(m),X]\n",
    "initial_theta = np.zeros((n + 1, 1));\n",
    "initial_theta = np.c_[initial_theta]\n"
   ]
  },
  {
   "cell_type": "code",
   "execution_count": 939,
   "metadata": {},
   "outputs": [],
   "source": [
    "def sigmoid(z):\n",
    "    g = np.zeros(z.shape);\n",
    "    g = 1 / (1 + np.exp(-z));\n",
    "    return g;\n",
    "\n",
    "\n",
    "def costFunction(theta, X, y, lem=0):\n",
    "    m = len(y);\n",
    "    J = 0;\n",
    "    h = sigmoid(X.dot(theta));\n",
    "    logminush = np.log(1 - (h))\n",
    "    logh = np.log(h)\n",
    "    #J = (1 / m) * np.sum(np.multiply(-y, logh) - np.multiply((1 - y), logminush));\n",
    "    J = (1 / m) * np.sum((-y.T.dot(logh)) - ((1 - y).T.dot(logminush)));\n",
    "    #J = -1*(1/m)*(np.log(h).T.dot(y)+np.log(1-h).T.dot(1-y))    \n",
    "    reg = (lem/(2*m)) * np.sum(np.square(theta))\n",
    "    J = J + reg\n",
    "    return J;   \n",
    "\n",
    "def gradient(theta, X, y):\n",
    "    m = len(y);\n",
    "    h = sigmoid(X.dot(theta.reshape(-1,1)));\n",
    "    grad = np.zeros(theta.shape);\n",
    "    grad = (1 / m) * X.T.dot((h - y));    \n",
    "    return grad.flatten();\n",
    "\n",
    "def plotDecisionBoundary(theta, X, y): \n",
    "    #plotData(X[:,1:3], y);\n",
    "    new_X = X[:,1:3];\n",
    "    pos, vals = np.nonzero(y==1);\n",
    "    neg, vals = np.nonzero(y==0);\n",
    "    plt.plot(new_X[pos, 0], new_X[pos, 1], '*', label=\"Admitted\" );\n",
    "    plt.plot(new_X[neg, 0], new_X[neg, 1], 'o', label=\"No Admitted\");\n",
    "    plt.legend(bbox_to_anchor=(1.05, 1), loc=2, borderaxespad=0.)\n",
    "\n",
    "    plt.ylabel('Exam 1 Score');\n",
    "    plt.xlabel('Exam 2 Score');\n",
    "    \n",
    "    x1_min, x1_max = X[:,1].min(), X[:,1].max();\n",
    "    x2_min, x2_max = X[:,2].min(), X[:,2].max();\n",
    "    \n",
    "    #copied\n",
    "    xx1, xx2 = np.meshgrid(np.linspace(x1_min, x1_max), np.linspace(x2_min, x2_max));\n",
    "    \n",
    "    h = sigmoid(np.c_[np.ones((xx1.ravel().shape[0],1)), xx1.ravel(), xx2.ravel()].dot(res.x));\n",
    "    \n",
    "    h = h.reshape(xx1.shape);\n",
    "    plt.contour(xx1, xx2, h, [0.5], linewidths=1, colors='b');\n",
    "    \n",
    "\n",
    "def predict(theta, X):\n",
    "    p = np.zeros((X.size, 1));\n",
    "    p = sigmoid(X.dot(theta));\n",
    "    for i in range(p.size):\n",
    "        if (p[i] >= 0.5):\n",
    "            p[i] = 1;\n",
    "        else:\n",
    "            p[i] = 0;\n",
    "    return p;\n",
    "\n",
    "def mapFeature(X1, X2):\n",
    "    degree = 5;\n",
    "    out = np.ones(X1.size);\n",
    "    for i in range(0, degree):\n",
    "        for j in range(0, i):\n",
    "            #out(:, end+1) = (X1.^(i-j)).*(X2.^j);\n",
    "            cal = (X1**(i-j) * (X2**j));\n",
    "            out = np.c_[out, cal];\n",
    "    \n",
    "    return out;\n",
    "    "
   ]
  },
  {
   "cell_type": "code",
   "execution_count": 940,
   "metadata": {},
   "outputs": [
    {
     "name": "stdout",
     "output_type": "stream",
     "text": [
      "Cost at initial theta (zeros):\n",
      " 0.6931471805599452\n",
      "Gradient at initial theta (zeros): \n",
      "\n",
      "\n",
      " [ -0.1        -12.00921659 -11.26284221]\n",
      "\n",
      "Cost at test theta: \n",
      " 0.21833019382659785\n",
      "Expected cost (approx): 0.218\n",
      "\n",
      "Gradient at test theta: \n",
      "\n",
      "\n",
      " [0.04290299 2.56623412 2.64679737]\n",
      "Expected gradients (approx):\n",
      " 0.043\n",
      " 2.566\n",
      " 2.647\n",
      "\n"
     ]
    }
   ],
   "source": [
    "cost = costFunction(initial_theta, X, y);\n",
    "grad = gradient(initial_theta, X, y);\n",
    "print('Cost at initial theta (zeros):\\n', cost);\n",
    "print('Gradient at initial theta (zeros): \\n');\n",
    "print('\\n', grad);\n",
    "\n",
    "test_theta = np.array([[-24], [0.2], [0.2]]);\n",
    "cost = costFunction(test_theta, X, y);\n",
    "grad = grad = gradient(test_theta, X, y);\n",
    "print('\\nCost at test theta: \\n', cost);\n",
    "print('Expected cost (approx): 0.218\\n');\n",
    "print('Gradient at test theta: \\n');\n",
    "print('\\n', grad);\n",
    "print('Expected gradients (approx):\\n 0.043\\n 2.566\\n 2.647\\n');"
   ]
  },
  {
   "cell_type": "code",
   "execution_count": 941,
   "metadata": {},
   "outputs": [
    {
     "ename": "ValueError",
     "evalue": "shapes (3,3) and (9,) not aligned: 3 (dim 1) != 9 (dim 0)",
     "output_type": "error",
     "traceback": [
      "\u001b[0;31m---------------------------------------------------------------------------\u001b[0m",
      "\u001b[0;31mValueError\u001b[0m                                Traceback (most recent call last)",
      "\u001b[0;32m<ipython-input-941-e7da69466615>\u001b[0m in \u001b[0;36m<module>\u001b[0;34m()\u001b[0m\n\u001b[1;32m      2\u001b[0m \u001b[0;31m#options = optimset('GradObj', 'on', 'MaxIter', 400);\u001b[0m\u001b[0;34m\u001b[0m\u001b[0;34m\u001b[0m\u001b[0m\n\u001b[1;32m      3\u001b[0m \u001b[0;31m#[theta, cost] = fminunc(@(t)(costFunction(t, X, y)), initial_theta, options);\u001b[0m\u001b[0;34m\u001b[0m\u001b[0;34m\u001b[0m\u001b[0m\n\u001b[0;32m----> 4\u001b[0;31m \u001b[0mres\u001b[0m \u001b[0;34m=\u001b[0m \u001b[0mopt\u001b[0m\u001b[0;34m.\u001b[0m\u001b[0mminimize\u001b[0m\u001b[0;34m(\u001b[0m\u001b[0mcostFunction\u001b[0m\u001b[0;34m,\u001b[0m \u001b[0mtest_theta\u001b[0m\u001b[0;34m,\u001b[0m \u001b[0margs\u001b[0m\u001b[0;34m=\u001b[0m\u001b[0;34m(\u001b[0m\u001b[0mX\u001b[0m\u001b[0;34m,\u001b[0m\u001b[0my\u001b[0m\u001b[0;34m)\u001b[0m\u001b[0;34m,\u001b[0m \u001b[0mmethod\u001b[0m\u001b[0;34m=\u001b[0m\u001b[0;32mNone\u001b[0m\u001b[0;34m,\u001b[0m \u001b[0mjac\u001b[0m\u001b[0;34m=\u001b[0m\u001b[0mgradient\u001b[0m\u001b[0;34m,\u001b[0m \u001b[0moptions\u001b[0m\u001b[0;34m=\u001b[0m\u001b[0;34m{\u001b[0m\u001b[0;34m'maxiter'\u001b[0m\u001b[0;34m:\u001b[0m\u001b[0;36m400\u001b[0m\u001b[0;34m}\u001b[0m\u001b[0;34m)\u001b[0m\u001b[0;34m\u001b[0m\u001b[0m\n\u001b[0m\u001b[1;32m      5\u001b[0m \u001b[0mprint\u001b[0m\u001b[0;34m(\u001b[0m\u001b[0mres\u001b[0m\u001b[0;34m)\u001b[0m\u001b[0;34m\u001b[0m\u001b[0m\n\u001b[1;32m      6\u001b[0m \u001b[0mprint\u001b[0m\u001b[0;34m(\u001b[0m\u001b[0;34m'Cost at theta found by fminunc:\\n'\u001b[0m\u001b[0;34m,\u001b[0m \u001b[0mres\u001b[0m\u001b[0;34m.\u001b[0m\u001b[0mfun\u001b[0m\u001b[0;34m)\u001b[0m\u001b[0;34m;\u001b[0m\u001b[0;34m\u001b[0m\u001b[0m\n",
      "\u001b[0;32m~/anaconda3/lib/python3.6/site-packages/scipy/optimize/_minimize.py\u001b[0m in \u001b[0;36mminimize\u001b[0;34m(fun, x0, args, method, jac, hess, hessp, bounds, constraints, tol, callback, options)\u001b[0m\n\u001b[1;32m    479\u001b[0m         \u001b[0;32mreturn\u001b[0m \u001b[0m_minimize_cg\u001b[0m\u001b[0;34m(\u001b[0m\u001b[0mfun\u001b[0m\u001b[0;34m,\u001b[0m \u001b[0mx0\u001b[0m\u001b[0;34m,\u001b[0m \u001b[0margs\u001b[0m\u001b[0;34m,\u001b[0m \u001b[0mjac\u001b[0m\u001b[0;34m,\u001b[0m \u001b[0mcallback\u001b[0m\u001b[0;34m,\u001b[0m \u001b[0;34m**\u001b[0m\u001b[0moptions\u001b[0m\u001b[0;34m)\u001b[0m\u001b[0;34m\u001b[0m\u001b[0m\n\u001b[1;32m    480\u001b[0m     \u001b[0;32melif\u001b[0m \u001b[0mmeth\u001b[0m \u001b[0;34m==\u001b[0m \u001b[0;34m'bfgs'\u001b[0m\u001b[0;34m:\u001b[0m\u001b[0;34m\u001b[0m\u001b[0m\n\u001b[0;32m--> 481\u001b[0;31m         \u001b[0;32mreturn\u001b[0m \u001b[0m_minimize_bfgs\u001b[0m\u001b[0;34m(\u001b[0m\u001b[0mfun\u001b[0m\u001b[0;34m,\u001b[0m \u001b[0mx0\u001b[0m\u001b[0;34m,\u001b[0m \u001b[0margs\u001b[0m\u001b[0;34m,\u001b[0m \u001b[0mjac\u001b[0m\u001b[0;34m,\u001b[0m \u001b[0mcallback\u001b[0m\u001b[0;34m,\u001b[0m \u001b[0;34m**\u001b[0m\u001b[0moptions\u001b[0m\u001b[0;34m)\u001b[0m\u001b[0;34m\u001b[0m\u001b[0m\n\u001b[0m\u001b[1;32m    482\u001b[0m     \u001b[0;32melif\u001b[0m \u001b[0mmeth\u001b[0m \u001b[0;34m==\u001b[0m \u001b[0;34m'newton-cg'\u001b[0m\u001b[0;34m:\u001b[0m\u001b[0;34m\u001b[0m\u001b[0m\n\u001b[1;32m    483\u001b[0m         return _minimize_newtoncg(fun, x0, args, jac, hess, hessp, callback,\n",
      "\u001b[0;32m~/anaconda3/lib/python3.6/site-packages/scipy/optimize/optimize.py\u001b[0m in \u001b[0;36m_minimize_bfgs\u001b[0;34m(fun, x0, args, jac, callback, gtol, norm, eps, maxiter, disp, return_all, **unknown_options)\u001b[0m\n\u001b[1;32m    958\u001b[0m     \u001b[0mgnorm\u001b[0m \u001b[0;34m=\u001b[0m \u001b[0mvecnorm\u001b[0m\u001b[0;34m(\u001b[0m\u001b[0mgfk\u001b[0m\u001b[0;34m,\u001b[0m \u001b[0mord\u001b[0m\u001b[0;34m=\u001b[0m\u001b[0mnorm\u001b[0m\u001b[0;34m)\u001b[0m\u001b[0;34m\u001b[0m\u001b[0m\n\u001b[1;32m    959\u001b[0m     \u001b[0;32mwhile\u001b[0m \u001b[0;34m(\u001b[0m\u001b[0mgnorm\u001b[0m \u001b[0;34m>\u001b[0m \u001b[0mgtol\u001b[0m\u001b[0;34m)\u001b[0m \u001b[0;32mand\u001b[0m \u001b[0;34m(\u001b[0m\u001b[0mk\u001b[0m \u001b[0;34m<\u001b[0m \u001b[0mmaxiter\u001b[0m\u001b[0;34m)\u001b[0m\u001b[0;34m:\u001b[0m\u001b[0;34m\u001b[0m\u001b[0m\n\u001b[0;32m--> 960\u001b[0;31m         \u001b[0mpk\u001b[0m \u001b[0;34m=\u001b[0m \u001b[0;34m-\u001b[0m\u001b[0mnumpy\u001b[0m\u001b[0;34m.\u001b[0m\u001b[0mdot\u001b[0m\u001b[0;34m(\u001b[0m\u001b[0mHk\u001b[0m\u001b[0;34m,\u001b[0m \u001b[0mgfk\u001b[0m\u001b[0;34m)\u001b[0m\u001b[0;34m\u001b[0m\u001b[0m\n\u001b[0m\u001b[1;32m    961\u001b[0m         \u001b[0;32mtry\u001b[0m\u001b[0;34m:\u001b[0m\u001b[0;34m\u001b[0m\u001b[0m\n\u001b[1;32m    962\u001b[0m             \u001b[0malpha_k\u001b[0m\u001b[0;34m,\u001b[0m \u001b[0mfc\u001b[0m\u001b[0;34m,\u001b[0m \u001b[0mgc\u001b[0m\u001b[0;34m,\u001b[0m \u001b[0mold_fval\u001b[0m\u001b[0;34m,\u001b[0m \u001b[0mold_old_fval\u001b[0m\u001b[0;34m,\u001b[0m \u001b[0mgfkp1\u001b[0m \u001b[0;34m=\u001b[0m\u001b[0;31m \u001b[0m\u001b[0;31m\\\u001b[0m\u001b[0;34m\u001b[0m\u001b[0m\n",
      "\u001b[0;31mValueError\u001b[0m: shapes (3,3) and (9,) not aligned: 3 (dim 1) != 9 (dim 0)"
     ]
    }
   ],
   "source": [
    "import scipy.optimize as opt\n",
    "#options = optimset('GradObj', 'on', 'MaxIter', 400);\n",
    "#[theta, cost] = fminunc(@(t)(costFunction(t, X, y)), initial_theta, options);\n",
    "res = opt.minimize(costFunction, test_theta, args=(X,y), method=None, jac=gradient, options={'maxiter':400})\n",
    "print(res)\n",
    "print('Cost at theta found by fminunc:\\n', res.fun);\n",
    "print('Expected cost (approx): 0.203\\n');\n",
    "print('theta: \\n');\n",
    "print('\\n', res.x);\n",
    "print('Expected theta (approx):\\n');\n",
    "print(' -25.161 0.206 0.201');\n",
    "theta = res.x;"
   ]
  },
  {
   "cell_type": "code",
   "execution_count": null,
   "metadata": {},
   "outputs": [],
   "source": [
    "plotDecisionBoundary(theta, X, y);"
   ]
  },
  {
   "cell_type": "code",
   "execution_count": null,
   "metadata": {},
   "outputs": [],
   "source": [
    "theta = theta.reshape(theta.size, 1)\n",
    "prob = sigmoid(np.array([[1], [45], [85]]).T.dot(theta));\n",
    "print('For a student with scores 45 and 85, we predict an admission probability of \\n\\n', prob);\n"
   ]
  },
  {
   "cell_type": "code",
   "execution_count": null,
   "metadata": {},
   "outputs": [],
   "source": [
    "pred = predict(theta, X);\n",
    "pred = pred.reshape(pred.size, 1)\n",
    "print(np.sum(y))\n",
    "print('Train Accuracy: \\n', (np.mean(pred == y)) * 100);"
   ]
  },
  {
   "cell_type": "code",
   "execution_count": null,
   "metadata": {},
   "outputs": [],
   "source": [
    "# start ex2 with reg"
   ]
  },
  {
   "cell_type": "code",
   "execution_count": null,
   "metadata": {},
   "outputs": [],
   "source": [
    "#data = load('ex2data2.txt');\n",
    "#X = data(:, [1, 2]); y = data(:, 3);\n",
    "\n",
    "data = np.loadtxt('ex2data2.txt', comments='#', delimiter=\",\");\n",
    "\n",
    "X = data[:, [0, 1]];\n",
    "y = data[:, 2];\n",
    "y = y.reshape(y.size, 1);\n",
    "print(['Plotting data']);\n",
    "\n",
    "plotData(X, y, 'Microchip Test 1', 'Microchip Test 1', 'y = 1', 'y = 0');\n"
   ]
  },
  {
   "cell_type": "code",
   "execution_count": null,
   "metadata": {},
   "outputs": [],
   "source": [
    "X = mapFeature(X[:, 0], X[:, 1]);"
   ]
  },
  {
   "cell_type": "code",
   "execution_count": null,
   "metadata": {},
   "outputs": [],
   "source": [
    "m, n = X.shape;\n",
    "initial_theta = np.zeros((n, 1));\n",
    "initial_theta = np.c_[initial_theta];\n",
    "initial_theta\n",
    "lam = 1;\n",
    "cost = costFunction(initial_theta, X, y, lam)\n",
    "print('Cost at initial theta (zeros): \\n', cost);\n",
    "print('Expected cost (approx): 0.693\\n');\n",
    "\n",
    "#grad = gradient(initial_theta, X, y);\n",
    "#https://github.com/JWarmenhoven/Coursera-Machine-Learning/blob/master/notebooks/Programming%20Exercise%202%20-%20Logistic%20Regression.ipynb\n"
   ]
  },
  {
   "cell_type": "code",
   "execution_count": null,
   "metadata": {},
   "outputs": [],
   "source": []
  },
  {
   "cell_type": "code",
   "execution_count": null,
   "metadata": {},
   "outputs": [],
   "source": []
  }
 ],
 "metadata": {
  "kernelspec": {
   "display_name": "Python 3",
   "language": "python",
   "name": "python3"
  },
  "language_info": {
   "codemirror_mode": {
    "name": "ipython",
    "version": 3
   },
   "file_extension": ".py",
   "mimetype": "text/x-python",
   "name": "python",
   "nbconvert_exporter": "python",
   "pygments_lexer": "ipython3",
   "version": "3.6.4"
  }
 },
 "nbformat": 4,
 "nbformat_minor": 2
}
