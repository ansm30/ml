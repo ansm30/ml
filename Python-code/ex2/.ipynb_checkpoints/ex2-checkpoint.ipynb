{
 "cells": [
  {
   "cell_type": "code",
   "execution_count": 133,
   "metadata": {},
   "outputs": [],
   "source": [
    "import numpy as np\n",
    "import matplotlib.pyplot as plt\n"
   ]
  },
  {
   "cell_type": "code",
   "execution_count": 134,
   "metadata": {},
   "outputs": [
    {
     "name": "stdout",
     "output_type": "stream",
     "text": [
      "['Plotting data with + indicating (y = 1) examples and o indicating (y = 0) examples.\\n']\n"
     ]
    },
    {
     "data": {
      "image/png": "[encoded data removed]",
      "text/plain": [
       "<matplotlib.figure.Figure at 0x7f009bfad898>"
      ]
     },
     "metadata": {},
     "output_type": "display_data"
    }
   ],
   "source": [
    "data = np.loadtxt('ex2data1.txt', comments='#', delimiter=\",\");\n",
    "#print(data);\n",
    "X = data[:, [0, 1]];\n",
    "y = data[:, 2];\n",
    "y = y.reshape(y.size, 1);\n",
    "print(['Plotting data with + indicating (y = 1) examples and o indicating (y = 0) examples.\\n']);\n",
    "\n",
    "def plotData(X, y, label1='Exam 1 Score', label2='Exam 2 Score', legend1=\"No Admitted\", legend2=\"Admitted\"):\n",
    "    pos, vals = np.nonzero(y==1);\n",
    "    neg, vals = np.nonzero(y==0);\n",
    "    plt.plot(X[pos, 0], X[pos, 1], '*', label=legend1 );\n",
    "    plt.plot(X[neg, 0], X[neg, 1], 'o', label=legend2);\n",
    "    plt.legend(bbox_to_anchor=(1.05, 1), loc=2, borderaxespad=0.)\n",
    "\n",
    "    plt.ylabel(label1);\n",
    "    plt.xlabel(label2);\n",
    "    plt.show();\n",
    "\n",
    "plotData(X, y);\n",
    "\n"
   ]
  },
  {
   "cell_type": "code",
   "execution_count": 135,
   "metadata": {},
   "outputs": [],
   "source": [
    "m, n = X.shape;\n",
    "X = np.c_[np.ones(m),X]\n",
    "initial_theta = np.zeros((n + 1, 1));\n",
    "initial_theta = np.c_[initial_theta]\n"
   ]
  },
  {
   "cell_type": "code",
   "execution_count": 136,
   "metadata": {},
   "outputs": [],
   "source": [
    "def sigmoid(z):\n",
    "    g = np.zeros(z.shape);\n",
    "    g = 1 / (1 + np.exp(-z));\n",
    "    return g;\n",
    "\n",
    "\n",
    "def costFunction(theta, X, y, lem=0):\n",
    "    theta = theta.reshape(-1, 1)\n",
    "    m = len(y);\n",
    "    J = 0;\n",
    "    h = sigmoid(X.dot(theta));    \n",
    "    assert(h.shape == (X.shape[0],theta.shape[1]))\n",
    "    logminush = np.log(1 - (h))\n",
    "    logh = np.log(h)\n",
    "    #J = (1 / m) * np.sum(np.multiply(-y, logh) - np.multiply((1 - y), logminush));\n",
    "    J = (1 / m) * np.sum((-y.T.dot(logh)) - ((1 - y).T.dot(logminush)));\n",
    "    #J = -1*(1/m)*(np.log(h).T.dot(y)+np.log(1-h).T.dot(1-y))    \n",
    "    reg = (lem/(2*m)) * np.sum(np.square(theta))\n",
    "    J = J + reg\n",
    "    return J;   \n",
    "\n",
    "def gradient(theta, X, y):\n",
    "    m = len(y);\n",
    "    h = sigmoid(X.dot(theta.reshape(-1,1)));\n",
    "    grad = np.zeros(theta.shape);\n",
    "    grad = (1 / m) * X.T.dot((h - y));    \n",
    "    return grad.flatten();\n",
    "\n",
    "def plotDecisionBoundary(theta, X, y): \n",
    "    #plotData(X[:,1:3], y);\n",
    "    new_X = X[:,1:3];\n",
    "    pos, vals = np.nonzero(y==1);\n",
    "    neg, vals = np.nonzero(y==0);\n",
    "    plt.plot(new_X[pos, 0], new_X[pos, 1], '*', label=\"Admitted\" );\n",
    "    plt.plot(new_X[neg, 0], new_X[neg, 1], 'o', label=\"No Admitted\");\n",
    "    plt.legend(bbox_to_anchor=(1.05, 1), loc=2, borderaxespad=0.)\n",
    "\n",
    "    plt.ylabel('Exam 1 Score');\n",
    "    plt.xlabel('Exam 2 Score');\n",
    "    \n",
    "#     x1_min, x1_max = X[:,1].min(), X[:,1].max();\n",
    "#     x2_min, x2_max = X[:,2].min(), X[:,2].max();\n",
    "    \n",
    "#     #copied\n",
    "#     xx1, xx2 = np.meshgrid(np.linspace(x1_min, x1_max), np.linspace(x2_min, x2_max));\n",
    "    \n",
    "#     h = sigmoid(np.c_[np.ones((xx1.ravel().shape[0],1)), xx1.ravel(), xx2.ravel()].dot(res.x));\n",
    "    \n",
    "#     h = h.reshape(xx1.shape);\n",
    "#     plt.contour(xx1, xx2, h, [0.5], linewidths=1, colors='b');\n",
    "\n",
    "    if X.shape[1] <= 3:\n",
    "        plot_x = np.array([min(X[:, 1]) - 2,  max(X[:, 1]) + 2]);\n",
    "        #plot_y = (-1./theta(3)).*(theta(2).*plot_x + theta(1));\n",
    "        part_1 = -1/theta[2];\n",
    "        part_2 = theta[1] * plot_x;\n",
    "        part_3 = theta[0];\n",
    "        plot_y = part_1*(part_2 + part_3);\n",
    "        plt.plot(plot_x, plot_y);\n",
    "    else:\n",
    "        u = np.linspace(-1, 1.5, 50);\n",
    "        v = np.linspace(-1, 1.5, 50);\n",
    "        z = np.zeros((len(u), len(v)));\n",
    "        for i in range(len(u)):\n",
    "            for j in range(len(v)):\n",
    "                z[i,j] = mapFeature(u[i], v[j]).dot(theta);\n",
    "        \n",
    "        z = z.T;\n",
    "        plt.contour(u, v, z, [0]);\n",
    "    \n",
    "    \n",
    "\n",
    "def predict(theta, X):\n",
    "    p = np.zeros((X.size, 1));\n",
    "    p = sigmoid(X.dot(theta));\n",
    "    for i in range(p.size):\n",
    "        if (p[i] >= 0.5):\n",
    "            p[i] = 1;\n",
    "        else:\n",
    "            p[i] = 0;\n",
    "    return p;\n",
    "\n",
    "def mapFeature(X1, X2):\n",
    "    degree = 7;\n",
    "    out = np.ones(X1.size);\n",
    "    out = out.reshape(out.size, 1);\n",
    "    for i in range(1, degree):\n",
    "        for j in range(0, i + 1):\n",
    "            #out(:, end+1) = (X1.^(i-j)).*(X2.^j);\n",
    "            cal = (X1**(i-j) * (X2**j));\n",
    "            out = np.c_[out, cal];\n",
    "    return out;\n",
    "\n",
    "def costFunctionReg(theta, X, y, lem):\n",
    "    m = len(y);\n",
    "    J = 0;\n",
    "    h = sigmoid(X.dot(theta));\n",
    "    logminush = np.log(1 - (h))\n",
    "    logh = np.log(h)\n",
    "    #J = (1 / m) * np.sum(np.multiply(-y, logh) - np.multiply((1 - y), logminush));\n",
    "    J = (1 / m) * np.sum((-y.T.dot(logh)) - ((1 - y).T.dot(logminush)));\n",
    "    #J = -1*(1/m)*(np.log(h).T.dot(y)+np.log(1-h).T.dot(1-y))    \n",
    "    reg = (lem/(2*m)) * np.sum(np.square(theta))\n",
    "    J = J + reg\n",
    "    return J;   \n",
    "\n",
    "def gradientReg(theta, X, y, lem):\n",
    "    m = len(y);\n",
    "    h = sigmoid(X.dot(theta.reshape(-1,1)));\n",
    "    grad = np.zeros(theta.shape);\n",
    "    grad = (1 / m) * X.T.dot((h - y)) +  (lem/m)* np.r_[[[0]], theta[1:].reshape(-1,1)];    \n",
    "    return grad.flatten();\n",
    "\n",
    "# def gradientReg(theta, reg, *args):\n",
    "#     m = y.size\n",
    "#     h = sigmoid(XX.dot(theta.reshape(-1,1)))\n",
    "      \n",
    "#     grad = (1/m)*XX.T.dot(h-y) + (reg/m)*np.r_[[[0]],theta[1:].reshape(-1,1)]\n",
    "        \n",
    "#     return(grad.flatten())\n",
    "    \n"
   ]
  },
  {
   "cell_type": "code",
   "execution_count": 137,
   "metadata": {},
   "outputs": [
    {
     "name": "stdout",
     "output_type": "stream",
     "text": [
      "Cost at initial theta (zeros):\n",
      " 0.6931471805599452\n",
      "Gradient at initial theta (zeros): \n",
      "\n",
      "\n",
      " [ -0.1        -12.00921659 -11.26284221]\n",
      "\n",
      "Cost at test theta: \n",
      " 0.21833019382659785\n",
      "Expected cost (approx): 0.218\n",
      "\n",
      "Gradient at test theta: \n",
      "\n",
      "\n",
      " [0.04290299 2.56623412 2.64679737]\n",
      "Expected gradients (approx):\n",
      " 0.043\n",
      " 2.566\n",
      " 2.647\n",
      "\n"
     ]
    }
   ],
   "source": [
    "cost = costFunction(initial_theta, X, y);\n",
    "grad = gradient(initial_theta, X, y);\n",
    "print('Cost at initial theta (zeros):\\n', cost);\n",
    "print('Gradient at initial theta (zeros): \\n');\n",
    "print('\\n', grad);\n",
    "\n",
    "test_theta = np.array([[-24], [0.2], [0.2]]);\n",
    "cost = costFunction(test_theta, X, y);\n",
    "grad = grad = gradient(test_theta, X, y);\n",
    "print('\\nCost at test theta: \\n', cost);\n",
    "print('Expected cost (approx): 0.218\\n');\n",
    "print('Gradient at test theta: \\n');\n",
    "print('\\n', grad);\n",
    "print('Expected gradients (approx):\\n 0.043\\n 2.566\\n 2.647\\n');"
   ]
  },
  {
   "cell_type": "code",
   "execution_count": 138,
   "metadata": {},
   "outputs": [
    {
     "name": "stdout",
     "output_type": "stream",
     "text": [
      "      fun: 0.203497701589442\n",
      " hess_inv: array([[ 3.33350099e+03, -2.66055767e+01, -2.69764676e+01],\n",
      "       [-2.66055767e+01,  2.27032698e-01,  2.02191103e-01],\n",
      "       [-2.69764676e+01,  2.02191103e-01,  2.33923485e-01]])\n",
      "      jac: array([-1.29877863e-08, -9.15436292e-07, -7.66847112e-07])\n",
      "  message: 'Maximum number of iterations has been exceeded.'\n",
      "     nfev: 22\n",
      "      nit: 16\n",
      "     njev: 22\n",
      "   status: 1\n",
      "  success: False\n",
      "        x: array([-25.16133175,   0.2062317 ,   0.20147159])\n",
      "Cost at theta found by fminunc:\n",
      " 0.203497701589442\n",
      "Expected cost (approx): 0.203\n",
      "\n",
      "theta: \n",
      "\n",
      "\n",
      " [-25.16133175   0.2062317    0.20147159]\n",
      "Expected theta (approx):\n",
      "\n",
      " -25.161 0.206 0.201\n"
     ]
    }
   ],
   "source": [
    "import scipy.optimize as opt\n",
    "#options = optimset('GradObj', 'on', 'MaxIter', 400);\n",
    "#[theta, cost] = fminunc(@(t)(costFunction(t, X, y)), initial_theta, options);\n",
    "res = opt.minimize(costFunction, test_theta, args=(X,y), method=None, jac=gradient, options={'maxiter':400})\n",
    "print(res)\n",
    "print('Cost at theta found by fminunc:\\n', res.fun);\n",
    "print('Expected cost (approx): 0.203\\n');\n",
    "print('theta: \\n');\n",
    "print('\\n', res.x);\n",
    "print('Expected theta (approx):\\n');\n",
    "print(' -25.161 0.206 0.201');\n",
    "theta = res.x;"
   ]
  },
  {
   "cell_type": "code",
   "execution_count": 139,
   "metadata": {},
   "outputs": [
    {
     "data": {
      "image/png": "[encoded data removed]",
      "text/plain": [
       "<matplotlib.figure.Figure at 0x7f009c02c198>"
      ]
     },
     "metadata": {},
     "output_type": "display_data"
    }
   ],
   "source": [
    "plotDecisionBoundary(theta, X, y);"
   ]
  },
  {
   "cell_type": "code",
   "execution_count": 140,
   "metadata": {},
   "outputs": [
    {
     "name": "stdout",
     "output_type": "stream",
     "text": [
      "For a student with scores 45 and 85, we predict an admission probability of \n",
      "\n",
      " [[0.77629065]]\n"
     ]
    }
   ],
   "source": [
    "theta = theta.reshape(theta.size, 1)\n",
    "prob = sigmoid(np.array([[1], [45], [85]]).T.dot(theta));\n",
    "print('For a student with scores 45 and 85, we predict an admission probability of \\n\\n', prob);\n"
   ]
  },
  {
   "cell_type": "code",
   "execution_count": 141,
   "metadata": {},
   "outputs": [
    {
     "name": "stdout",
     "output_type": "stream",
     "text": [
      "60.0\n",
      "Train Accuracy: \n",
      " 89.0\n"
     ]
    }
   ],
   "source": [
    "pred = predict(theta, X);\n",
    "pred = pred.reshape(pred.size, 1)\n",
    "print(np.sum(y))\n",
    "print('Train Accuracy: \\n', (np.mean(pred == y)) * 100);"
   ]
  },
  {
   "cell_type": "code",
   "execution_count": 142,
   "metadata": {},
   "outputs": [],
   "source": [
    "# start ex2 with reg"
   ]
  },
  {
   "cell_type": "code",
   "execution_count": 143,
   "metadata": {},
   "outputs": [
    {
     "name": "stdout",
     "output_type": "stream",
     "text": [
      "['Plotting data']\n"
     ]
    },
    {
     "data": {
      "image/png": "[encoded data removed]",
      "text/plain": [
       "<matplotlib.figure.Figure at 0x7f009c232278>"
      ]
     },
     "metadata": {},
     "output_type": "display_data"
    }
   ],
   "source": [
    "#data = load('ex2data2.txt');\n",
    "#X = data(:, [1, 2]); y = data(:, 3);\n",
    "\n",
    "data = np.loadtxt('ex2data2.txt', comments='#', delimiter=\",\");\n",
    "\n",
    "X = data[:, [0, 1]];\n",
    "y = data[:, 2];\n",
    "y = y.reshape(y.size, 1);\n",
    "print(['Plotting data']);\n",
    "\n",
    "plotData(X, y, 'Microchip Test 1', 'Microchip Test 1', 'y = 1', 'y = 0');\n"
   ]
  },
  {
   "cell_type": "code",
   "execution_count": null,
   "metadata": {},
   "outputs": [],
   "source": []
  },
  {
   "cell_type": "code",
   "execution_count": 144,
   "metadata": {},
   "outputs": [
    {
     "name": "stdout",
     "output_type": "stream",
     "text": [
      "---------------------==========================-------------------------\n",
      "28\n",
      "118\n",
      "---------------------==========================-------------------------\n",
      "Cost at initial theta (zeros): \n",
      " 0.6931471805599453\n",
      "Expected cost (approx): 0.693\n",
      "\n"
     ]
    },
    {
     "data": {
      "image/png": "[encoded data removed]",
      "text/plain": [
       "<matplotlib.figure.Figure at 0x7f009c1bd978>"
      ]
     },
     "metadata": {},
     "output_type": "display_data"
    }
   ],
   "source": [
    "X = mapFeature(X[:, 0], X[:, 1]);\n",
    "m, n = X.shape;\n",
    "print(\"---------------------==========================-------------------------\")\n",
    "print(n)\n",
    "print(m)\n",
    "print(\"---------------------==========================-------------------------\")\n",
    "initial_theta = np.zeros((n, 1));\n",
    "initial_theta = np.c_[initial_theta];\n",
    "lam = 1;\n",
    "cost = costFunctionReg(initial_theta, X, y, lam)\n",
    "print('Cost at initial theta (zeros): \\n', cost);\n",
    "print('Expected cost (approx): 0.693\\n');\n",
    "\n",
    "grad = gradientReg(initial_theta, X, y, lam);\n",
    "\n",
    "res = opt.minimize(costFunctionReg, initial_theta, (X, y, lam), method=None, jac=gradientReg, options={'maxiter':400})\n",
    "#[theta, J, exit_flag] = fminunc(@(t)(costFunctionReg(t, X, y, lambda)), initial_theta, options);\n",
    "\n",
    "theta = res.x;\n",
    "J = res.fun;\n",
    "\n",
    "plotDecisionBoundary(theta, X, y);\n"
   ]
  },
  {
   "cell_type": "code",
   "execution_count": null,
   "metadata": {},
   "outputs": [],
   "source": []
  },
  {
   "cell_type": "code",
   "execution_count": null,
   "metadata": {},
   "outputs": [],
   "source": []
  }
 ],
 "metadata": {
  "kernelspec": {
   "display_name": "Python 3",
   "language": "python",
   "name": "python3"
  },
  "language_info": {
   "codemirror_mode": {
    "name": "ipython",
    "version": 3
   },
   "file_extension": ".py",
   "mimetype": "text/x-python",
   "name": "python",
   "nbconvert_exporter": "python",
   "pygments_lexer": "ipython3",
   "version": "3.6.4"
  }
 },
 "nbformat": 4,
 "nbformat_minor": 2
}
